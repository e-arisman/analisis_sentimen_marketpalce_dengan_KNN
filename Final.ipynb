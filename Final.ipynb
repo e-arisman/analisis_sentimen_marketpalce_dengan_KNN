{
 "cells": [
  {
   "cell_type": "code",
   "execution_count": null,
   "metadata": {},
   "outputs": [],
   "source": [
    "#file_negatif\n",
    "#file_positif"
   ]
  },
  {
   "cell_type": "code",
   "execution_count": null,
   "metadata": {},
   "outputs": [],
   "source": [
    "data = {}\n",
    "for neg in negative:\n",
    "    data[neg] = \"negatif\"\n",
    "for pos in positive:\n",
    "    data[pos] = \"positif\""
   ]
  },
  {
   "cell_type": "code",
   "execution_count": null,
   "metadata": {},
   "outputs": [],
   "source": [
    "def set_kata_unik(data):\n",
    "    kalimat = []\n",
    "    sentimen = []\n",
    "    kata_unik = []\n",
    "    for kal, sen in data.items():\n",
    "        kalimat.append(kal)\n",
    "        sentimen.append(sen)\n",
    "        for ts in kal.strip().split():\n",
    "            kata_unik.append(ts)\n",
    "\n",
    "    kata_unik = set(kata_unik)\n",
    "    \n",
    "    return kata_unik"
   ]
  },
  {
   "cell_type": "code",
   "execution_count": null,
   "metadata": {},
   "outputs": [],
   "source": [
    "def set_vector(kata_unik):\n",
    "    list_vec = []\n",
    "    for tx in txt:\n",
    "        kata_unik_ = dict.fromkeys(kata_unik, 0)\n",
    "        for t in tx.strip().replace(\"   \", \" \").replace(\"  \", \" \").split(\" \"):\n",
    "            try:\n",
    "                kata_unik_[t] += 1\n",
    "            except Exception as e:\n",
    "                print(e)\n",
    "                print(tx)\n",
    "        list_vec.append(kata_unik_)\n",
    "        \n",
    "    \n",
    "    return list_vec"
   ]
  },
  {
   "cell_type": "code",
   "execution_count": null,
   "metadata": {},
   "outputs": [],
   "source": [
    "list_vec = set_vector(data)"
   ]
  },
  {
   "cell_type": "code",
   "execution_count": null,
   "metadata": {},
   "outputs": [],
   "source": [
    "def computeTF(wordDict, bow):\n",
    "    tfDict = {}\n",
    "    bowCount = len(bow)\n",
    "    for word, count in wordDict.items():\n",
    "        tfDict[word] = count/float(bowCount)\n",
    "        \n",
    "    return tfDict"
   ]
  },
  {
   "cell_type": "code",
   "execution_count": null,
   "metadata": {},
   "outputs": [],
   "source": [
    "tf = []\n",
    "for i in range(len(list_vec)):\n",
    "    tf.append(computeTF(list_vec[i], txt[i].strip().replace(\"   \", \" \").replace(\"  \", \" \").split(\" \")))"
   ]
  },
  {
   "cell_type": "code",
   "execution_count": null,
   "metadata": {},
   "outputs": [],
   "source": [
    "def computeIDF(docList):\n",
    "    import math\n",
    "    idfDict = {}\n",
    "    N = len(docList)\n",
    "    \n",
    "    idfDict = dict.fromkeys(docList[0].keys(), 0)\n",
    "    for doc in docList:\n",
    "        for word, val in doc.items():\n",
    "            if val > 0:\n",
    "                idfDict[word] += 1\n",
    "    \n",
    "    for word, val in idfDict.items():\n",
    "        idfDict[word] = math.log10(N / float(val))\n",
    "        \n",
    "    return idfDict"
   ]
  },
  {
   "cell_type": "code",
   "execution_count": null,
   "metadata": {},
   "outputs": [],
   "source": [
    "idfs = computeIDF(tf)"
   ]
  },
  {
   "cell_type": "code",
   "execution_count": null,
   "metadata": {},
   "outputs": [],
   "source": [
    "def computeTFIDF(tfBow, idfs):\n",
    "    tfidf = {}\n",
    "    for word, val in tfBow.items():\n",
    "        tfidf[word] = val*idfs[word]\n",
    "    return tfidf"
   ]
  },
  {
   "cell_type": "code",
   "execution_count": null,
   "metadata": {},
   "outputs": [],
   "source": [
    "final_vec = []\n",
    "for i in range(len(tf)):\n",
    "    tfidf = computeTFIDF(tf[i], idfs)\n",
    "    value = []\n",
    "    for k, v in tfidf.items():\n",
    "        value.append(v)\n",
    "\n",
    "    value.append(sen[i])\n",
    "    \n",
    "    final_vec.append(value)"
   ]
  },
  {
   "cell_type": "code",
   "execution_count": null,
   "metadata": {},
   "outputs": [],
   "source": [
    "test = testing.split()"
   ]
  },
  {
   "cell_type": "code",
   "execution_count": null,
   "metadata": {},
   "outputs": [],
   "source": [
    "wordDicTest = dict.fromkeys(kata_unik, 0)"
   ]
  },
  {
   "cell_type": "code",
   "execution_count": null,
   "metadata": {},
   "outputs": [],
   "source": [
    "for tt in test:\n",
    "    try:\n",
    "        wordDicTest[tt] +=1\n",
    "    except:\n",
    "        pass"
   ]
  },
  {
   "cell_type": "code",
   "execution_count": null,
   "metadata": {},
   "outputs": [],
   "source": [
    "tfTEst = computeTF(wordDicTest, test)"
   ]
  },
  {
   "cell_type": "code",
   "execution_count": null,
   "metadata": {},
   "outputs": [],
   "source": [
    "idf_test = computeTFIDF(tfTEst, idfs)"
   ]
  },
  {
   "cell_type": "code",
   "execution_count": null,
   "metadata": {},
   "outputs": [],
   "source": [
    "test_vec = []\n",
    "for k, v in idf_test.items():\n",
    "    test_vec.append(v)"
   ]
  },
  {
   "cell_type": "code",
   "execution_count": null,
   "metadata": {},
   "outputs": [],
   "source": [
    "def euclidianDistance(sample1, sample2):\n",
    "    distance = 0\n",
    "    for x in range(len(sample1)):\n",
    "        distance += pow(sample1[x] - sample2[x], 2)\n",
    "\n",
    "    return math.sqrt(distance)\n",
    "\n",
    "def getNeighbors(train_set, test_sample, k):\n",
    "    distances = []\n",
    "    neighbors = []\n",
    "    \n",
    "    for x in range(len(train_set)):\n",
    "        dist = euclidianDistance(test_sample, train_set[x])\n",
    "        distances.append((train_set[x], dist))\n",
    "        \n",
    "    distances.sort(key=operator.itemgetter(1))\n",
    "\n",
    "    for x in range(k):\n",
    "        neighbors.append(distances[x][0])\n",
    "    \n",
    "    return neighbors\n",
    "\n",
    "def getResponse(neighbors):\n",
    "    classVotes = {}\n",
    "    \n",
    "    for x in range(len(neighbors)):\n",
    "        response = neighbors[x][-1]\n",
    "        if response in classVotes:\n",
    "            classVotes[response] += 1\n",
    "        else:\n",
    "            classVotes[response] = 1\n",
    "            \n",
    "    sortedVotes = sorted(classVotes.items(), key=operator.itemgetter(1), reverse=True)\n",
    "    return sortedVotes[0][0]"
   ]
  },
  {
   "cell_type": "code",
   "execution_count": null,
   "metadata": {},
   "outputs": [],
   "source": [
    "def getNeighbors(train_set, test_sample, k):\n",
    "    distances = []\n",
    "    neighbors = []\n",
    "    \n",
    "    for x in range(len(train_set)):\n",
    "        dist = euclidianDistance(test_sample, train_set[x])\n",
    "        distances.append((train_set[x], dist))\n",
    "        \n",
    "    distances.sort(key=operator.itemgetter(1))\n",
    "\n",
    "    for x in range(k):\n",
    "        neighbors.append(distances[x][0])\n",
    "    \n",
    "    return neighbors"
   ]
  },
  {
   "cell_type": "code",
   "execution_count": null,
   "metadata": {},
   "outputs": [],
   "source": [
    "def getResponse(neighbors):\n",
    "    classVotes = {}\n",
    "    \n",
    "    for x in range(len(neighbors)):\n",
    "        response = neighbors[x][-1]\n",
    "        if response in classVotes:\n",
    "            classVotes[response] += 1\n",
    "        else:\n",
    "            classVotes[response] = 1\n",
    "            \n",
    "    sortedVotes = sorted(classVotes.items(), key=operator.itemgetter(1), reverse=True)\n",
    "    return sortedVotes[0][0]"
   ]
  },
  {
   "cell_type": "code",
   "execution_count": null,
   "metadata": {},
   "outputs": [],
   "source": [
    "getResponse(getNeighbors(final_vec, test_vec, k))"
   ]
  }
 ],
 "metadata": {
  "kernelspec": {
   "display_name": "Python 3",
   "language": "python",
   "name": "python3"
  },
  "language_info": {
   "codemirror_mode": {
    "name": "ipython",
    "version": 3
   },
   "file_extension": ".py",
   "mimetype": "text/x-python",
   "name": "python",
   "nbconvert_exporter": "python",
   "pygments_lexer": "ipython3",
   "version": "3.6.8"
  }
 },
 "nbformat": 4,
 "nbformat_minor": 2
}
