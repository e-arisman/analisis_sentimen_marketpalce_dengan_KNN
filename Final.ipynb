{
 "cells": [
  {
   "cell_type": "code",
   "execution_count": 4,
   "metadata": {},
   "outputs": [],
   "source": [
    "from tqdm import tqdm"
   ]
  },
  {
   "cell_type": "markdown",
   "metadata": {},
   "source": [
    "## Dataset "
   ]
  },
  {
   "cell_type": "code",
   "execution_count": 263,
   "metadata": {},
   "outputs": [],
   "source": [
    "# negative = [\n",
    "#     \"Bodo amat  aku gk mau jadi langganan shopee lagi  bye\",\n",
    "#     \"min kok saya ga dapat gratis ongkir kalo belanja 150 ribu\",\n",
    "#     \"Makin ga enak aja ya mb smua dibatesin\",\n",
    "#     \"shopee kenapa harus ganti kebijakan koin shopee si ah kamu kunaon sayang\"]\n",
    "\n",
    "# positive = [\n",
    "#     \"terima kasih untuk photoshoot dari event Ekspress nya semoga Project N Ent semakin lebih baik lagi  mari bekerja lebih keras\",\n",
    "#     \"Misal punya saldo di bukalapak 100k tapi barang harga 200k  apa bisa digunakan untuk saldo 100k tersebut dan sisanya dibayarkan melalui metode lain\"\n",
    "#     \"lewat kerjasama apik  Van Der Velden dan Spasojevic  Bali united berhasil memperkecil ketertinggalan mereka  bersama Bukalapak\",\n",
    "#     \"Esteban Viszcara menggandakan keunggulan Sriwijaya FC atas Bali United   bersama Bukalapak\"\n",
    "# ]"
   ]
  },
  {
   "cell_type": "code",
   "execution_count": 264,
   "metadata": {},
   "outputs": [],
   "source": [
    "# data = []\n",
    "# for neg in negative:\n",
    "#     data.append({\n",
    "#         \"text\": neg,\n",
    "#         \"sentiment\": \"negatif\"\n",
    "#     })\n",
    "# for pos in positive:\n",
    "#     data.append({\n",
    "#         \"text\": pos,\n",
    "#         \"sentiment\": \"positif\"\n",
    "#     })"
   ]
  },
  {
   "cell_type": "code",
   "execution_count": 265,
   "metadata": {},
   "outputs": [],
   "source": [
    "# data"
   ]
  },
  {
   "cell_type": "markdown",
   "metadata": {},
   "source": [
    "### LOAD DATASET"
   ]
  },
  {
   "cell_type": "code",
   "execution_count": 159,
   "metadata": {},
   "outputs": [],
   "source": [
    "from textacy import preprocess_text"
   ]
  },
  {
   "cell_type": "code",
   "execution_count": 155,
   "metadata": {},
   "outputs": [],
   "source": [
    "def get_lexi():\n",
    "    lexi_positive = open(\"positive.txt\",\"r\")\n",
    "    lexi_positive_file = lexi_positive.read().split('\\n')\n",
    "    lexi_positive.close()\n",
    "    \n",
    "    lexi_negative = open(\"negative.txt\",\"r\")\n",
    "    lexi_negative_file = lexi_negative.read().split('\\n')\n",
    "    lexi_negative.close()\n",
    "    \n",
    "    return lexi_positive_file, lexi_negative_file\n",
    "\n",
    "lexi_positive_file, lexi_negative_file = get_lexi()"
   ]
  },
  {
   "cell_type": "code",
   "execution_count": 165,
   "metadata": {},
   "outputs": [],
   "source": [
    "def get_sentiment(text):\n",
    "    text_clean = preprocess_text(\n",
    "                    text, \n",
    "                    no_punct=True, \n",
    "                    lowercase=True, \n",
    "                    no_numbers=True, \n",
    "                    no_emails=True, \n",
    "                    no_phone_numbers=True\n",
    "                )\n",
    "\n",
    "    score = 0\n",
    "    for t in text_clean.split():\n",
    "        if t in lexi_negative_file:\n",
    "            score -= 1\n",
    "        elif t in lexi_positive_file:\n",
    "            score += 1\n",
    "        else:\n",
    "            pass\n",
    "        \n",
    "    if score > 0:\n",
    "        sentiment = \"positive\"\n",
    "    elif score < 0:\n",
    "        sentiment = \"negative\"\n",
    "    else:\n",
    "        sentiment = \"neutral\"\n",
    "        \n",
    "    return text_clean, sentiment"
   ]
  },
  {
   "cell_type": "code",
   "execution_count": 228,
   "metadata": {},
   "outputs": [
    {
     "name": "stderr",
     "output_type": "stream",
     "text": [
      "100%|██████████| 10000/10000 [00:08<00:00, 1244.12it/s]\n"
     ]
    }
   ],
   "source": [
    "fopen = open(\"corpus_anotasi.jsonl\", \"r\").read().split(\"\\n\")\n",
    "corpus = [json.loads(f)for f in fopen]\n",
    "\n",
    "data = []\n",
    "for i in tqdm(range(len(corpus))):\n",
    "    c = corpus[i]\n",
    "    text = c[\"text\"].split('|')[1]\n",
    "    clean_text, sentiment = get_sentiment(text)\n",
    "    \n",
    "    if sentiment != \"neutral\":\n",
    "        result = {\n",
    "            \"raw_text\": text,\n",
    "            \"text\": clean_text,\n",
    "            \"sentiment\": sentiment\n",
    "        }\n",
    "        data.append(result)"
   ]
  },
  {
   "cell_type": "code",
   "execution_count": 229,
   "metadata": {},
   "outputs": [
    {
     "data": {
      "text/plain": [
       "4460"
      ]
     },
     "execution_count": 229,
     "metadata": {},
     "output_type": "execute_result"
    }
   ],
   "source": [
    "len(data)"
   ]
  },
  {
   "cell_type": "code",
   "execution_count": 230,
   "metadata": {},
   "outputs": [
    {
     "name": "stdout",
     "output_type": "stream",
     "text": [
      "[\n",
      "   {\n",
      "      \"raw_text\": \"Tolong tokopedia jika anda memang bertunjuan untuk obyektif lihat bukti yang ada dan minta bukti tidak berdasarkan hanya omongan saja jelas2 itu sepihak dan mengada2 dan dia suda menerima hanya perlu mengirimkan sisanya yang saya terlupa,\",\n",
      "      \"text\": \"tolong tokopedia jika anda memang bertunjuan untuk obyektif lihat bukti yang ada dan minta bukti tidak berdasarkan hanya omongan saja jelas2 itu sepihak dan mengada2 dan dia suda menerima hanya perlu mengirimkan sisanya yang saya terlupa\",\n",
      "      \"sentiment\": \"negative\"\n",
      "   },\n",
      "   {\n",
      "      \"raw_text\": \", Pulsa, makan ,bioskop dllll. Banyak nggak bisa di sebutkan deh. Malah sekarang ovo di pakai tokopedia, mantap dah\",\n",
      "      \"text\": \"pulsa makan bioskop dllll banyak nggak bisa di sebutkan deh malah sekarang ovo di pakai tokopedia mantap dah\",\n",
      "      \"sentiment\": \"positive\"\n",
      "   },\n",
      "   {\n",
      "      \"raw_text\": \"min tolong perbaikin pengiriman ya masa masih sejabodetabek lama banget padahal sy liat dirincian udh di pulogebang dr tigahari yg lalu tp ga sampe . Jt kurang bagus. Padahal sy ongkirnya bayar tp ttp sma aja mau gratis/bayar pengiriman ga bagus.\",\n",
      "      \"text\": \"min tolong perbaikin pengiriman ya masa masih sejabodetabek lama banget padahal sy liat dirincian udh di pulogebang dr tigahari yg lalu tp ga sampe jt kurang bagus padahal sy ongkirnya bayar tp ttp sma aja mau gratis bayar pengiriman ga bagus\",\n",
      "      \"sentiment\": \"positive\"\n",
      "   },\n",
      "   {\n",
      "      \"raw_text\": \"min lapak saya paket komplit penghilang baret, lecet parah, dan goresan mobil / motor\",\n",
      "      \"text\": \"min lapak saya paket komplit penghilang baret lecet parah dan goresan mobil motor\",\n",
      "      \"sentiment\": \"negative\"\n",
      "   },\n",
      "   {\n",
      "      \"raw_text\": \"Outlet Penukaran: Bakmi GMKronologi Kejadian: Kasir sudah redeem tapi dibilang tidak bisa diproses, sehingga saya diminta memberikan jaminan sebesar pembelian dan pihak Bakmi GM akan menghubungi Tokopedia. Kasir/Pelayan yang menangani: tidak tau.\",\n",
      "      \"text\": \"outlet penukaran bakmi gmkronologi kejadian kasir sudah redeem tapi dibilang tidak bisa diproses sehingga saya diminta memberikan jaminan sebesar pembelian dan pihak bakmi gm akan menghubungi tokopedia kasir pelayan yang menangani tidak tau\",\n",
      "      \"sentiment\": \"negative\"\n",
      "   }\n",
      "]\n"
     ]
    }
   ],
   "source": [
    "print(json.dumps(data[:5], indent=3))"
   ]
  },
  {
   "cell_type": "markdown",
   "metadata": {},
   "source": [
    "## Cleaning"
   ]
  },
  {
   "cell_type": "code",
   "execution_count": 231,
   "metadata": {},
   "outputs": [],
   "source": [
    "# def set_kata_unik(data):\n",
    "#     kalimat = []\n",
    "#     sentimen = []\n",
    "#     kata_unik = []\n",
    "#     for kal, sen in data.items():\n",
    "#         kalimat.append(kal)\n",
    "#         sentimen.append(sen)\n",
    "#         for ts in kal.strip().split():\n",
    "#             kata_unik.append(ts)\n",
    "\n",
    "#     kata_unik = set(kata_unik)\n",
    "    \n",
    "#     return kata_unik"
   ]
  },
  {
   "cell_type": "code",
   "execution_count": 232,
   "metadata": {},
   "outputs": [],
   "source": [
    "def set_kata_unik(data):\n",
    "    txt, sen, kata_unik = [], [],[]\n",
    "    for i in tqdm(range(len(data))):\n",
    "        d = data[i]\n",
    "        text = d[\"text\"]\n",
    "        sentiment = d[\"sentiment\"]\n",
    "\n",
    "        txt.append(text)\n",
    "        sen.append(sentiment)\n",
    "\n",
    "        for ts in text.strip().split():\n",
    "            ts_clean = ts.lower()\n",
    "            if ts_clean.isdigit():\n",
    "                pass\n",
    "            else:\n",
    "                if ts_clean not in kata_unik:\n",
    "                    kata_unik.append(ts_clean)\n",
    "                    \n",
    "    return txt, sen, kata_unik"
   ]
  },
  {
   "cell_type": "code",
   "execution_count": 233,
   "metadata": {},
   "outputs": [
    {
     "name": "stderr",
     "output_type": "stream",
     "text": [
      "100%|██████████| 4460/4460 [00:01<00:00, 2634.66it/s]\n"
     ]
    }
   ],
   "source": [
    "txt, sen, kata_unik = set_kata_unik(data)"
   ]
  },
  {
   "cell_type": "code",
   "execution_count": 234,
   "metadata": {
    "scrolled": true
   },
   "outputs": [],
   "source": [
    "# txt, sen, kata_unik"
   ]
  },
  {
   "cell_type": "markdown",
   "metadata": {},
   "source": [
    "## Vectorisasi"
   ]
  },
  {
   "cell_type": "code",
   "execution_count": 235,
   "metadata": {},
   "outputs": [],
   "source": [
    "# def set_vector(txt, kata_unik):\n",
    "#     list_vec = []\n",
    "#     for tx in txt:\n",
    "#         kata_unik_ = dict.fromkeys(kata_unik, 0)\n",
    "#         for t in tx.strip():\n",
    "#             try:\n",
    "#                 kata_unik_[t] += 1\n",
    "#             except Exception as e:\n",
    "#                 pass\n",
    "# #                 print(e)\n",
    "# #                 print(tx)\n",
    "#         list_vec.append(kata_unik_)\n",
    "        \n",
    "    \n",
    "#     return list_vec"
   ]
  },
  {
   "cell_type": "code",
   "execution_count": 236,
   "metadata": {},
   "outputs": [],
   "source": [
    "import math\n",
    "\n",
    "def bag_of_word(txt, kata_unik):\n",
    "    word_index = []\n",
    "    for i in tqdm(range(len(txt))):\n",
    "        tx = txt[i]\n",
    "        tx_vec = {}\n",
    "        for ku in kata_unik:\n",
    "            if ku in tx.lower():\n",
    "                tx_vec[ku] = 1\n",
    "            else:\n",
    "                tx_vec[ku] = 0\n",
    "        word_index.append(tx_vec)\n",
    "        \n",
    "    return word_index\n",
    "\n",
    "def computeTF(word_index, list_of_text):\n",
    "    tf = {}\n",
    "    jumlah_kata = len(list_of_text)\n",
    "    try:\n",
    "        for kata, n in word_index.items():\n",
    "            tf[kata] = n/float(jumlah_kata)\n",
    "    except:\n",
    "        pass\n",
    "        \n",
    "    return tf\n",
    "\n",
    "def computeIDF(docList):\n",
    "    idfDict = {}\n",
    "    N = len(docList)\n",
    "    \n",
    "    for i in tqdm(range(len(docList))):\n",
    "        doc = docList[i]\n",
    "        for word, val in doc.items():\n",
    "            if val > 0:\n",
    "                try:\n",
    "                    idfDict[word] += 1\n",
    "                except:\n",
    "                    idfDict[word] = 0\n",
    "                    idfDict[word] += 1\n",
    "            else:\n",
    "                try:\n",
    "                    idfDict[word] += 0\n",
    "                except:\n",
    "                    idfDict[word] = 0\n",
    "    \n",
    "    for word, val in idfDict.items():\n",
    "        idfDict[word] = math.log10(N / float(val))\n",
    "        \n",
    "    return idfDict\n",
    "\n",
    "def computeTFIDF(tfBow, idfs):\n",
    "    tfidf = {}\n",
    "    for word, val in tfBow.items():\n",
    "        tfidf[word] = val*idfs[word]\n",
    "        \n",
    "    return tfidf"
   ]
  },
  {
   "cell_type": "code",
   "execution_count": null,
   "metadata": {},
   "outputs": [],
   "source": []
  },
  {
   "cell_type": "code",
   "execution_count": 237,
   "metadata": {},
   "outputs": [
    {
     "name": "stderr",
     "output_type": "stream",
     "text": [
      "100%|██████████| 4460/4460 [00:18<00:00, 245.34it/s]\n"
     ]
    }
   ],
   "source": [
    "list_bag_of_word = bag_of_word(txt, kata_unik)"
   ]
  },
  {
   "cell_type": "code",
   "execution_count": 238,
   "metadata": {},
   "outputs": [
    {
     "name": "stderr",
     "output_type": "stream",
     "text": [
      "100%|██████████| 4460/4460 [00:17<00:00, 254.36it/s]\n"
     ]
    }
   ],
   "source": [
    "tf = []\n",
    "for i in tqdm(range(len(list_bag_of_word))):\n",
    "    tf_i = computeTF(list_bag_of_word[i], txt[i].strip().split())\n",
    "    tf.append(tf_i)"
   ]
  },
  {
   "cell_type": "code",
   "execution_count": 239,
   "metadata": {},
   "outputs": [
    {
     "name": "stderr",
     "output_type": "stream",
     "text": [
      "100%|██████████| 4460/4460 [00:10<00:00, 410.32it/s]\n"
     ]
    }
   ],
   "source": [
    "idfs = computeIDF(tf)"
   ]
  },
  {
   "cell_type": "code",
   "execution_count": 240,
   "metadata": {},
   "outputs": [
    {
     "name": "stderr",
     "output_type": "stream",
     "text": [
      "100%|██████████| 4460/4460 [00:20<00:00, 216.20it/s]\n"
     ]
    }
   ],
   "source": [
    "final_vec = []\n",
    "for i in tqdm(range(len(tf))):\n",
    "    tfidf = computeTFIDF(tf[i], idfs)\n",
    "    value = []\n",
    "    for k, v in tfidf.items():\n",
    "        value.append(v)\n",
    "\n",
    "    value.append(sen[i])\n",
    "    \n",
    "    final_vec.append(value)"
   ]
  },
  {
   "cell_type": "code",
   "execution_count": null,
   "metadata": {},
   "outputs": [],
   "source": []
  },
  {
   "cell_type": "code",
   "execution_count": null,
   "metadata": {},
   "outputs": [],
   "source": []
  },
  {
   "cell_type": "code",
   "execution_count": 241,
   "metadata": {},
   "outputs": [],
   "source": [
    "testing = \"Terima kasih  Semoga kedepannya bisa lebih baik lagi dalam mengedukasi dan bisa benar2 memastikan apakah penjual patut mendapatkan star seller Selamat hari Selasa\""
   ]
  },
  {
   "cell_type": "code",
   "execution_count": 242,
   "metadata": {},
   "outputs": [],
   "source": [
    "test = testing.split()"
   ]
  },
  {
   "cell_type": "code",
   "execution_count": 243,
   "metadata": {},
   "outputs": [],
   "source": [
    "wordDicTest = dict.fromkeys(kata_unik, 0)"
   ]
  },
  {
   "cell_type": "code",
   "execution_count": 244,
   "metadata": {},
   "outputs": [],
   "source": [
    "for tt in test:\n",
    "    try:\n",
    "        wordDicTest[tt] +=1\n",
    "    except:\n",
    "        pass"
   ]
  },
  {
   "cell_type": "code",
   "execution_count": 245,
   "metadata": {},
   "outputs": [],
   "source": [
    "tfTEst = computeTF(wordDicTest, test)"
   ]
  },
  {
   "cell_type": "code",
   "execution_count": 246,
   "metadata": {},
   "outputs": [],
   "source": [
    "idf_test = computeTFIDF(tfTEst, idfs)"
   ]
  },
  {
   "cell_type": "code",
   "execution_count": 247,
   "metadata": {},
   "outputs": [],
   "source": [
    "test_vec = []\n",
    "for k, v in idf_test.items():\n",
    "    test_vec.append(v)"
   ]
  },
  {
   "cell_type": "code",
   "execution_count": 266,
   "metadata": {
    "scrolled": true
   },
   "outputs": [],
   "source": [
    "# test_vec"
   ]
  },
  {
   "cell_type": "code",
   "execution_count": 249,
   "metadata": {},
   "outputs": [],
   "source": [
    "import math\n",
    "import operator\n",
    "k=4"
   ]
  },
  {
   "cell_type": "code",
   "execution_count": 250,
   "metadata": {},
   "outputs": [],
   "source": [
    "def euclidianDistance(sample1, sample2):\n",
    "    distance = 0\n",
    "    for x in range(len(sample1)):\n",
    "        distance += pow(sample1[x] - sample2[x], 2)\n",
    "\n",
    "    return math.sqrt(distance)\n",
    "\n",
    "def getNeighbors(train_set, test_sample, k):\n",
    "    distances = []\n",
    "    neighbors = []\n",
    "\n",
    "    for x in range(len(train_set)):\n",
    "        dist = euclidianDistance(test_sample, train_set[x])\n",
    "        distances.append((train_set[x], dist))\n",
    "\n",
    "    distances.sort(key=operator.itemgetter(1))\n",
    "\n",
    "    for x in range(k):\n",
    "        neighbors.append(distances[x][0])\n",
    " \n",
    "    return neighbors\n",
    "\n",
    "def getResponse(neighbors):\n",
    "    classVotes = {}\n",
    "\n",
    "    for x in range(len(neighbors)):\n",
    "        response = neighbors[x][-1]\n",
    "        if response in classVotes:\n",
    "            classVotes[response] += 1\n",
    "        else:\n",
    "            classVotes[response] = 1\n",
    "            \n",
    "    sortedVotes = sorted(classVotes.items(), key=operator.itemgetter(1), reverse=True)\n",
    "    return sortedVotes[0][0]"
   ]
  },
  {
   "cell_type": "code",
   "execution_count": 251,
   "metadata": {},
   "outputs": [],
   "source": [
    "# getNeighbors(final_vec, test_vec, k)"
   ]
  },
  {
   "cell_type": "code",
   "execution_count": 252,
   "metadata": {},
   "outputs": [],
   "source": [
    "# getResponse(getNeighbors(final_vec, test_vec, k))"
   ]
  },
  {
   "cell_type": "code",
   "execution_count": 253,
   "metadata": {},
   "outputs": [],
   "source": [
    "import json\n",
    "from sklearn.neighbors import KNeighborsClassifier"
   ]
  },
  {
   "cell_type": "code",
   "execution_count": 255,
   "metadata": {},
   "outputs": [
    {
     "name": "stderr",
     "output_type": "stream",
     "text": [
      "100%|██████████| 4460/4460 [00:00<00:00, 7073.94it/s]\n",
      "100%|██████████| 4460/4460 [00:00<00:00, 841994.68it/s]\n"
     ]
    }
   ],
   "source": [
    "X = []\n",
    "for i in tqdm(range(len(final_vec))):\n",
    "    vec = final_vec[i]\n",
    "    X.append(vec[:-1])\n",
    "    \n",
    "y = []\n",
    "for i in tqdm(range(len(sen))):\n",
    "    s = sen[i]\n",
    "    if s == \"positive\":\n",
    "        y.append(1)\n",
    "    else:\n",
    "        y.append(0)"
   ]
  },
  {
   "cell_type": "code",
   "execution_count": 256,
   "metadata": {},
   "outputs": [
    {
     "data": {
      "text/plain": [
       "KNeighborsClassifier(algorithm='auto', leaf_size=30, metric='minkowski',\n",
       "           metric_params=None, n_jobs=None, n_neighbors=3, p=2,\n",
       "           weights='uniform')"
      ]
     },
     "execution_count": 256,
     "metadata": {},
     "output_type": "execute_result"
    }
   ],
   "source": [
    "neigh = KNeighborsClassifier(n_neighbors=3)\n",
    "neigh.fit(X, y) "
   ]
  },
  {
   "cell_type": "code",
   "execution_count": 257,
   "metadata": {},
   "outputs": [
    {
     "data": {
      "text/plain": [
       "array([0])"
      ]
     },
     "execution_count": 257,
     "metadata": {},
     "output_type": "execute_result"
    }
   ],
   "source": [
    "neigh.predict([test_vec])"
   ]
  },
  {
   "cell_type": "code",
   "execution_count": 258,
   "metadata": {},
   "outputs": [
    {
     "data": {
      "text/plain": [
       "array([[0.66666667, 0.33333333]])"
      ]
     },
     "execution_count": 258,
     "metadata": {},
     "output_type": "execute_result"
    }
   ],
   "source": [
    "neigh.predict_proba([test_vec])"
   ]
  },
  {
   "cell_type": "code",
   "execution_count": 270,
   "metadata": {
    "scrolled": false
   },
   "outputs": [
    {
     "name": "stderr",
     "output_type": "stream",
     "text": [
      "  2%|▏         | 2/100 [00:00<00:15,  6.24it/s]"
     ]
    },
    {
     "name": "stdout",
     "output_type": "stream",
     "text": [
      "{\n",
      "   \"text\": \"tolong tokopedia jika anda memang bertunjuan untuk obyektif lihat bukti yang ada dan minta bukti tidak berdasarkan hanya omongan saja jelas2 itu sepihak dan mengada2 dan dia suda menerima hanya perlu mengirimkan sisanya yang saya terlupa\",\n",
      "   \"predict\": \"negatif\"\n",
      "}\n",
      "{\n",
      "   \"text\": \"pulsa makan bioskop dllll banyak nggak bisa di sebutkan deh malah sekarang ovo di pakai tokopedia mantap dah\",\n",
      "   \"predict\": \"negatif\"\n",
      "}\n"
     ]
    },
    {
     "name": "stderr",
     "output_type": "stream",
     "text": [
      "  4%|▍         | 4/100 [00:00<00:14,  6.53it/s]"
     ]
    },
    {
     "name": "stdout",
     "output_type": "stream",
     "text": [
      "{\n",
      "   \"text\": \"min tolong perbaikin pengiriman ya masa masih sejabodetabek lama banget padahal sy liat dirincian udh di pulogebang dr tigahari yg lalu tp ga sampe jt kurang bagus padahal sy ongkirnya bayar tp ttp sma aja mau gratis bayar pengiriman ga bagus\",\n",
      "   \"predict\": \"negatif\"\n",
      "}\n",
      "{\n",
      "   \"text\": \"min lapak saya paket komplit penghilang baret lecet parah dan goresan mobil motor\",\n",
      "   \"predict\": \"negatif\"\n",
      "}\n"
     ]
    },
    {
     "name": "stderr",
     "output_type": "stream",
     "text": [
      "  6%|▌         | 6/100 [00:00<00:14,  6.65it/s]"
     ]
    },
    {
     "name": "stdout",
     "output_type": "stream",
     "text": [
      "{\n",
      "   \"text\": \"outlet penukaran bakmi gmkronologi kejadian kasir sudah redeem tapi dibilang tidak bisa diproses sehingga saya diminta memberikan jaminan sebesar pembelian dan pihak bakmi gm akan menghubungi tokopedia kasir pelayan yang menangani tidak tau\",\n",
      "   \"predict\": \"negatif\"\n",
      "}\n",
      "{\n",
      "   \"text\": \"yaahh pake dimahalin lg cari untung bgt\",\n",
      "   \"predict\": \"negatif\"\n",
      "}\n"
     ]
    },
    {
     "name": "stderr",
     "output_type": "stream",
     "text": [
      "  8%|▊         | 8/100 [00:01<00:14,  6.35it/s]"
     ]
    },
    {
     "name": "stdout",
     "output_type": "stream",
     "text": [
      "{\n",
      "   \"text\": \"yaah kecewa udah gk bisa buat beli reksa dana\",\n",
      "   \"predict\": \"negatif\"\n",
      "}\n",
      "{\n",
      "   \"text\": \"propolis number mg merk springleaf isi number halal buatan australia australia vitamin halal\",\n",
      "   \"predict\": \"negatif\"\n",
      "}\n"
     ]
    },
    {
     "name": "stderr",
     "output_type": "stream",
     "text": [
      " 10%|█         | 10/100 [00:01<00:14,  6.30it/s]"
     ]
    },
    {
     "name": "stdout",
     "output_type": "stream",
     "text": [
      "{\n",
      "   \"text\": \"makin aneh nih wkwk ga cuma skandal staff cuci tangan\",\n",
      "   \"predict\": \"negatif\"\n",
      "}\n",
      "{\n",
      "   \"text\": \"min transaksi number kenapa pendapatan saya dipotong 1rb harga barang saya 70rb kenapa yang saya dapat cuma 69rb\",\n",
      "   \"predict\": \"negatif\"\n",
      "}\n"
     ]
    },
    {
     "name": "stderr",
     "output_type": "stream",
     "text": [
      " 12%|█▏        | 12/100 [00:01<00:12,  6.79it/s]"
     ]
    },
    {
     "name": "stdout",
     "output_type": "stream",
     "text": [
      "{\n",
      "   \"text\": \"selain bukalapak ada perusahaan unicorn lainnya seperti gojek traveloka serta tokopedia\",\n",
      "   \"predict\": \"positif\"\n",
      "}\n",
      "{\n",
      "   \"text\": \"okay terima kasih\",\n",
      "   \"predict\": \"positif\"\n",
      "}\n"
     ]
    },
    {
     "name": "stderr",
     "output_type": "stream",
     "text": [
      " 14%|█▍        | 14/100 [00:02<00:13,  6.48it/s]"
     ]
    },
    {
     "name": "stdout",
     "output_type": "stream",
     "text": [
      "{\n",
      "   \"text\": \"gimana itu sudah bisa belum d cairkan uangnya krna punya saya juga d bekukan nyari modalnya begini amat sih ya bukalapak\",\n",
      "   \"predict\": \"negatif\"\n",
      "}\n",
      "{\n",
      "   \"text\": \"hi shopee sy pesen suatu barang di shopee pake grup hemat dari tgl number sept temen sy yg satu grup barangnya udah nyampe yg sy belum pdhl alamat tujuan kirim kami sama kok gitu sih huhu\",\n",
      "   \"predict\": \"negatif\"\n",
      "}\n"
     ]
    },
    {
     "name": "stderr",
     "output_type": "stream",
     "text": [
      " 16%|█▌        | 16/100 [00:02<00:13,  6.34it/s]"
     ]
    },
    {
     "name": "stdout",
     "output_type": "stream",
     "text": [
      "{\n",
      "   \"text\": \"maaf min saya hanya dropship jadi tidak dapat upload foto bukti resi namun kami lampirkan sc bahwa no resi tersebut sesuai dan valid\",\n",
      "   \"predict\": \"positif\"\n",
      "}\n",
      "{\n",
      "   \"text\": \"baik di tunggu ya kak\",\n",
      "   \"predict\": \"positif\"\n",
      "}\n"
     ]
    },
    {
     "name": "stderr",
     "output_type": "stream",
     "text": [
      " 18%|█▊        | 18/100 [00:02<00:12,  6.53it/s]"
     ]
    },
    {
     "name": "stdout",
     "output_type": "stream",
     "text": [
      "{\n",
      "   \"text\": \"kaya nya tokopedia malah mundur nih bukan malah maju sebelum nya pakai tokocash lebih fleksibel bisa di pakai apa saja kenapa bisa begitu\",\n",
      "   \"predict\": \"positif\"\n",
      "}\n",
      "{\n",
      "   \"text\": \"min no trx number number bs mnta tlng diperpanjang batas pengiriman nya gak order nya kmrn pengiriman via grab sameday tp krn kmrn toko tutup jd bs nya dkrm hr ni sdh konfirm ke pembeli jg tp barusan sy mau klik pickup trnyata mulai pickup jam number\",\n",
      "   \"predict\": \"negatif\"\n",
      "}\n",
      "{\n",
      "   \"text\": \"dapatkan bonus belanja bukalapak\",\n",
      "   \"predict\": \"positif\"\n",
      "}\n"
     ]
    },
    {
     "name": "stderr",
     "output_type": "stream",
     "text": [
      " 21%|██        | 21/100 [00:03<00:12,  6.35it/s]"
     ]
    },
    {
     "name": "stdout",
     "output_type": "stream",
     "text": [
      "{\n",
      "   \"text\": \"dapatkan berbagai produk sandisk flashdrive di e commerce lazada id blanjacom eleveniaid dengan harga terbaik dari\",\n",
      "   \"predict\": \"positif\"\n",
      "}\n",
      "{\n",
      "   \"text\": \"pagi mohon di cek untuk nomor transaksi ini invoice number number number vljuslnmrk0si pembeli sudah menyatakan barang sudah di terimanamun di aplikasi tidak tertera\",\n",
      "   \"predict\": \"negatif\"\n",
      "}\n"
     ]
    },
    {
     "name": "stderr",
     "output_type": "stream",
     "text": [
      " 23%|██▎       | 23/100 [00:03<00:12,  6.02it/s]"
     ]
    },
    {
     "name": "stdout",
     "output_type": "stream",
     "text": [
      "{\n",
      "   \"text\": \"status toko tidak aktif\",\n",
      "   \"predict\": \"negatif\"\n",
      "}\n",
      "{\n",
      "   \"text\": \"jangan lama2 min menurut admin yg di diskusi komplain cuma number x number jam\",\n",
      "   \"predict\": \"negatif\"\n",
      "}\n"
     ]
    },
    {
     "name": "stderr",
     "output_type": "stream",
     "text": [
      " 25%|██▌       | 25/100 [00:03<00:12,  6.03it/s]"
     ]
    },
    {
     "name": "stdout",
     "output_type": "stream",
     "text": [
      "{\n",
      "   \"text\": \"orderan dengan nomor transaksi number nomor tagihan bl1811mznrdhinv telah dikirim tapi katanya resi nya salah tolong ditindak lanjuti ini resinya phone\",\n",
      "   \"predict\": \"negatif\"\n",
      "}\n",
      "{\n",
      "   \"text\": \"ada baiknya dari toped utk toko yg gold merchant bisa direview dulu apakah toko tersebut bagus dan sesuai lokasi atau ngga saya harap toped bisa memberikan sanksi yg serius thanks\",\n",
      "   \"predict\": \"positif\"\n",
      "}\n"
     ]
    },
    {
     "name": "stderr",
     "output_type": "stream",
     "text": [
      " 27%|██▋       | 27/100 [00:04<00:12,  5.73it/s]"
     ]
    },
    {
     "name": "stdout",
     "output_type": "stream",
     "text": [
      "{\n",
      "   \"text\": \"hasil remitnya sesuai foto ada selisih harusnya 169rb\",\n",
      "   \"predict\": \"negatif\"\n",
      "}\n",
      "{\n",
      "   \"text\": \"baik akan kami tunggu dan apabila pihak pembeli tidak mau mengorder ulang transaksi ini bagaimana pertanggung jawaban tim bukalapak atas dana penjualan kami\",\n",
      "   \"predict\": \"negatif\"\n",
      "}\n"
     ]
    },
    {
     "name": "stderr",
     "output_type": "stream",
     "text": [
      " 29%|██▉       | 29/100 [00:04<00:12,  5.74it/s]"
     ]
    },
    {
     "name": "stdout",
     "output_type": "stream",
     "text": [
      "{\n",
      "   \"text\": \"hanya pertemuan kita yang gak tersedia di bukalapak tokopedia\",\n",
      "   \"predict\": \"positif\"\n",
      "}\n",
      "{\n",
      "   \"text\": \"minnnnn tolo cancel ini dong salah pencet harusnya saya pencet yang kirim ke counter\",\n",
      "   \"predict\": \"negatif\"\n",
      "}\n"
     ]
    },
    {
     "name": "stderr",
     "output_type": "stream",
     "text": [
      " 31%|███       | 31/100 [00:04<00:12,  5.59it/s]"
     ]
    },
    {
     "name": "stdout",
     "output_type": "stream",
     "text": [
      "{\n",
      "   \"text\": \"selamat siang buka lapak kalau saya ingin mengundang tim dari buka lapak untuk menjadi pembicara diarahkan untuk menghubungi siapa ya terima kasih\",\n",
      "   \"predict\": \"negatif\"\n",
      "}\n",
      "{\n",
      "   \"text\": \"coba disearch kopi amungme di bukalapak tokped dulu kalo ga salah ada yg jual online harga reseller\",\n",
      "   \"predict\": \"negatif\"\n",
      "}\n"
     ]
    },
    {
     "name": "stderr",
     "output_type": "stream",
     "text": [
      " 33%|███▎      | 33/100 [00:05<00:12,  5.55it/s]"
     ]
    },
    {
     "name": "stdout",
     "output_type": "stream",
     "text": [
      "{\n",
      "   \"text\": \"shinichi dheny bisa kak silakan melakukan pembayaran melalui alternatif seperti minimarket mobile banking internet banking tokopedia atm dan outlet outlet lain yang bekerja sama kami cek tagihan sudah muncul dan silakan melunasi nya thx joro\",\n",
      "   \"predict\": \"positif\"\n",
      "}\n",
      "{\n",
      "   \"text\": \"number halo min mohon info untuk melakukan penjualan apakah juga tidak dapat diproses\",\n",
      "   \"predict\": \"negatif\"\n",
      "}\n"
     ]
    },
    {
     "name": "stderr",
     "output_type": "stream",
     "text": [
      " 35%|███▌      | 35/100 [00:05<00:10,  6.04it/s]"
     ]
    },
    {
     "name": "stdout",
     "output_type": "stream",
     "text": [
      "{\n",
      "   \"text\": \"udah number jam ga dibales2 atuh panik saya ini udh hari terakhir ini saya ditipu apa gimana ya allah\",\n",
      "   \"predict\": \"negatif\"\n",
      "}\n",
      "{\n",
      "   \"text\": \"saya mau tanya setelah di perbarui ko ongkir ngikutin jumlah barang yabg di beli min kmren2 enga kaya gini\",\n",
      "   \"predict\": \"positif\"\n",
      "}\n"
     ]
    },
    {
     "name": "stderr",
     "output_type": "stream",
     "text": [
      " 37%|███▋      | 37/100 [00:05<00:10,  5.94it/s]"
     ]
    },
    {
     "name": "stdout",
     "output_type": "stream",
     "text": [
      "{\n",
      "   \"text\": \"mohon di proses padahal saya sudab jelaskan semua di diskusi kenapa di persulit admin itu memang benar saya mohon proses pergantian no nya terima kasih\",\n",
      "   \"predict\": \"negatif\"\n",
      "}\n",
      "{\n",
      "   \"text\": \"maaf tapi emailnya belum saya terima di spam juga tidak ada\",\n",
      "   \"predict\": \"negatif\"\n",
      "}\n"
     ]
    },
    {
     "name": "stderr",
     "output_type": "stream",
     "text": [
      " 39%|███▉      | 39/100 [00:06<00:10,  6.01it/s]"
     ]
    },
    {
     "name": "stdout",
     "output_type": "stream",
     "text": [
      "{\n",
      "   \"text\": \"hai shopee siang td sy melakukan pembayaran menggunakan metode virtual account tp tiba2 jaringan eror ketika saya cek kembali saldo rekening sy ternyata terdebet 2x bagaimana solusinya ya\",\n",
      "   \"predict\": \"negatif\"\n",
      "}\n",
      "{\n",
      "   \"text\": \"sebagai key master minggu ini igor punya hak untuk mengeliminasi satu diantara penghuni tersisa nanti siapakah sosok penghuni itu cari tau jawabannya di eliminasi penghuni rumah terakhir bersama live jam number malam ini hanya\",\n",
      "   \"predict\": \"positif\"\n",
      "}\n"
     ]
    },
    {
     "name": "stderr",
     "output_type": "stream",
     "text": [
      " 41%|████      | 41/100 [00:06<00:09,  6.05it/s]"
     ]
    },
    {
     "name": "stdout",
     "output_type": "stream",
     "text": [
      "{\n",
      "   \"text\": \"kalau sebelah indo bisa elektrik jadi di struknya ada nomer yang tinggal dimasukkan ke google play kalau saya biasa beli di tokopedia lebih simple\",\n",
      "   \"predict\": \"negatif\"\n",
      "}\n",
      "{\n",
      "   \"text\": \"apakah sudah ada update ini bagaimana ya knp trx cc saya gagal terus mohon penjelasannya\",\n",
      "   \"predict\": \"negatif\"\n",
      "}\n"
     ]
    },
    {
     "name": "stderr",
     "output_type": "stream",
     "text": [
      " 43%|████▎     | 43/100 [00:06<00:08,  6.40it/s]"
     ]
    },
    {
     "name": "stdout",
     "output_type": "stream",
     "text": [
      "{\n",
      "   \"text\": \"min saya mau ubah nomor hp di akun shopee gimana ya mau login gak bisa karena no hp udah gak aktif sedangkan otp masuk ke nomor lama saya min tolong\",\n",
      "   \"predict\": \"negatif\"\n",
      "}\n",
      "{\n",
      "   \"text\": \"masalah nya sy topup pas mau bayar transaksi dibukalapak gan di akun bukalapak nya pulak kirain emg udh join ada masalah bisa bntu tau gitu mah tdi bayar biasa aja gg usah lah pake2 dana itu niat nya pngn dpt voucher malah uang blm balik smpe skrg apes\",\n",
      "   \"predict\": \"negatif\"\n",
      "}\n"
     ]
    },
    {
     "name": "stderr",
     "output_type": "stream",
     "text": [
      " 45%|████▌     | 45/100 [00:07<00:08,  6.49it/s]"
     ]
    },
    {
     "name": "stdout",
     "output_type": "stream",
     "text": [
      "{\n",
      "   \"text\": \"kampret sdh 3x24 mau aktivasi ovo cash kagak dikirimin juga kode aktivasinya selalu coba lagi smp alhirnya disuruh tunggu 1x24jam lagi balikin aj deh saldo toko cash gw lama2 kecewa sma makin lama tambah kesal gw tutup aj nih akun\",\n",
      "   \"predict\": \"negatif\"\n",
      "}\n",
      "{\n",
      "   \"text\": \"number number ultah aku semoga ada keajaiban aku bisa nonton blackpink\",\n",
      "   \"predict\": \"positif\"\n",
      "}\n",
      "{\n",
      "   \"text\": \"dapatkan bonus belanja bukalapak\",\n",
      "   \"predict\": \"positif\"\n",
      "}\n"
     ]
    },
    {
     "name": "stderr",
     "output_type": "stream",
     "text": [
      " 48%|████▊     | 48/100 [00:07<00:07,  7.01it/s]"
     ]
    },
    {
     "name": "stdout",
     "output_type": "stream",
     "text": [
      "{\n",
      "   \"text\": \"sampai kapan menunggu jasa pengiriman min dan kapan saja bisa mengajuan klaim asuransi jika barang tsb benar dinyatakan hilang\",\n",
      "   \"predict\": \"positif\"\n",
      "}\n",
      "{\n",
      "   \"text\": \"hasil bursa karir hari ini dapet pulpen tokopedia terima kasih tokopedia\",\n",
      "   \"predict\": \"positif\"\n",
      "}\n"
     ]
    },
    {
     "name": "stderr",
     "output_type": "stream",
     "text": [
      " 50%|█████     | 50/100 [00:07<00:07,  6.66it/s]"
     ]
    },
    {
     "name": "stdout",
     "output_type": "stream",
     "text": [
      "{\n",
      "   \"text\": \"selamat sore silakan cek dm dari kami tks ktl\",\n",
      "   \"predict\": \"positif\"\n",
      "}\n",
      "{\n",
      "   \"text\": \"saya seller shopee kenapa star seller saya dicabut dg alasan respon chat dibawah ketentuan padahal tiap hari chat saya balas via web seller center tp kenapa presentasi respon chat saya tidak pernah update bukti2 saya lampirkan via dm jg buat laporan phone\",\n",
      "   \"predict\": \"negatif\"\n",
      "}\n"
     ]
    },
    {
     "name": "stderr",
     "output_type": "stream",
     "text": [
      " 52%|█████▏    | 52/100 [00:08<00:06,  6.96it/s]"
     ]
    },
    {
     "name": "stdout",
     "output_type": "stream",
     "text": [
      "{\n",
      "   \"text\": \"kenapa tidak ada laporan iklan pada tanggal number september ya\",\n",
      "   \"predict\": \"negatif\"\n",
      "}\n",
      "{\n",
      "   \"text\": \"siap terima kasih asya\",\n",
      "   \"predict\": \"positif\"\n",
      "}\n",
      "{\n",
      "   \"text\": \"silakan\",\n",
      "   \"predict\": \"positif\"\n",
      "}\n"
     ]
    },
    {
     "name": "stderr",
     "output_type": "stream",
     "text": [
      " 55%|█████▌    | 55/100 [00:08<00:06,  7.39it/s]"
     ]
    },
    {
     "name": "stdout",
     "output_type": "stream",
     "text": [
      "{\n",
      "   \"text\": \"pasukan anti prei kerjo minggu hari libur tetap kerja apakah kamu salah satunya tetap semangat ya kaos ini bisa kamu beli di bikin kaos satuan desain\",\n",
      "   \"predict\": \"negatif\"\n",
      "}\n",
      "{\n",
      "   \"text\": \"ijin tag om kalo gangguan hapus aja maaf hm size l luar setara xl mulus seperti baru idr 120k free ongkir pulau jawa minat serius wa number inboxragu rekber bukalapakcod malang\",\n",
      "   \"predict\": \"negatif\"\n",
      "}\n"
     ]
    },
    {
     "name": "stderr",
     "output_type": "stream",
     "text": [
      " 57%|█████▋    | 57/100 [00:08<00:06,  6.72it/s]"
     ]
    },
    {
     "name": "stdout",
     "output_type": "stream",
     "text": [
      "{\n",
      "   \"text\": \"eh itu bulan januari bukannya harusnya udah expired ya min ini udah bulan apa coba kesalahan siapa kalo gitu\",\n",
      "   \"predict\": \"negatif\"\n",
      "}\n",
      "{\n",
      "   \"text\": \"iyes syudah skarang tp smoga bisa meningkatkan pelayanannya ya trutama terkait hal2 metode pembayaran kecepatan verifikasi de el el ya soalnya toko sebelah tu gampang bgt lho transaksi apa pun transfer jam brp pun verifikasi seketika langsung cuss\",\n",
      "   \"predict\": \"negatif\"\n",
      "}\n"
     ]
    },
    {
     "name": "stderr",
     "output_type": "stream",
     "text": [
      " 59%|█████▉    | 59/100 [00:09<00:06,  6.42it/s]"
     ]
    },
    {
     "name": "stdout",
     "output_type": "stream",
     "text": [
      "{\n",
      "   \"text\": \"min akun bukalapak saya tidak bisa dibuka kenapa min apakah bukalapak lagi eror\",\n",
      "   \"predict\": \"negatif\"\n",
      "}\n",
      "{\n",
      "   \"text\": \"parah aplikasi makin bobrok sistem amburadul dan ini gajelas sisa pembayaran 54menit kalo dibayar jadi waktu habis kl pemcet kembali waktunya nambah\",\n",
      "   \"predict\": \"negatif\"\n",
      "}\n"
     ]
    },
    {
     "name": "stderr",
     "output_type": "stream",
     "text": [
      " 61%|██████    | 61/100 [00:09<00:06,  6.21it/s]"
     ]
    },
    {
     "name": "stdout",
     "output_type": "stream",
     "text": [
      "{\n",
      "   \"text\": \"ok terima kasih di tunggu kabarnya\",\n",
      "   \"predict\": \"positif\"\n",
      "}\n",
      "{\n",
      "   \"text\": \"vixx pc cuma rp23 400 last day discount + voucher min pembelian 10k aja di shopee\",\n",
      "   \"predict\": \"negatif\"\n",
      "}\n"
     ]
    },
    {
     "name": "stderr",
     "output_type": "stream",
     "text": [
      " 63%|██████▎   | 63/100 [00:09<00:05,  6.25it/s]"
     ]
    },
    {
     "name": "stdout",
     "output_type": "stream",
     "text": [
      "{\n",
      "   \"text\": \"mau tanya kalaw dana pengembalian melalui dompet shopee biasa nya brp hari yaa\",\n",
      "   \"predict\": \"negatif\"\n",
      "}\n",
      "{\n",
      "   \"text\": \"ini masalah apa yah tiba2\",\n",
      "   \"predict\": \"negatif\"\n",
      "}\n"
     ]
    },
    {
     "name": "stderr",
     "output_type": "stream",
     "text": [
      " 65%|██████▌   | 65/100 [00:10<00:05,  6.10it/s]"
     ]
    },
    {
     "name": "stdout",
     "output_type": "stream",
     "text": [
      "{\n",
      "   \"text\": \"ini barangnya baru dikirim hari ini belum sampai cuma dia mau dikirimnya kemaren sore tapi ekspedisi udah pada tutup terus dia mencaci maki di chat dan memfitnah di iklan barang jualan saya\",\n",
      "   \"predict\": \"negatif\"\n",
      "}\n",
      "{\n",
      "   \"text\": \"mohon bantu min saya beli tiket kai kan dapet cashback number tapi kenapa saldo saya tetep number transaksi sudah berhasil tolong bantu\",\n",
      "   \"predict\": \"negatif\"\n",
      "}\n"
     ]
    },
    {
     "name": "stderr",
     "output_type": "stream",
     "text": [
      " 67%|██████▋   | 67/100 [00:10<00:05,  6.06it/s]"
     ]
    },
    {
     "name": "stdout",
     "output_type": "stream",
     "text": [
      "{\n",
      "   \"text\": \"diskon number khusus order di sikahkan kunjungi\",\n",
      "   \"predict\": \"negatif\"\n",
      "}\n",
      "{\n",
      "   \"text\": \"berapa lama batas waktu pembayaran shopee bigsale number 1 1\",\n",
      "   \"predict\": \"negatif\"\n",
      "}\n"
     ]
    },
    {
     "name": "stderr",
     "output_type": "stream",
     "text": [
      " 69%|██████▉   | 69/100 [00:10<00:05,  5.84it/s]"
     ]
    },
    {
     "name": "stdout",
     "output_type": "stream",
     "text": [
      "{\n",
      "   \"text\": \"tolong cek inv number xviii xi number saya order dari jumat senin diproses dan hari ini dikirim tapi seller input resi palsu lagi tolong hubungi seller kalau memang saya nggak boleh spam agar seller balas pesan saya sudah number hari dan jgn suruh saya nunggu lg\",\n",
      "   \"predict\": \"negatif\"\n",
      "}\n",
      "{\n",
      "   \"text\": \"cuma buat pantes2 aja\",\n",
      "   \"predict\": \"negatif\"\n",
      "}\n"
     ]
    },
    {
     "name": "stderr",
     "output_type": "stream",
     "text": [
      " 71%|███████   | 71/100 [00:11<00:04,  5.89it/s]"
     ]
    },
    {
     "name": "stdout",
     "output_type": "stream",
     "text": [
      "{\n",
      "   \"text\": \"berani sekali bukalapak bikin social experiment dgn cara ngeseriusin jokes bapak2 public speaker yg suka salah sebut krn lupa grogi pas di panggung\",\n",
      "   \"predict\": \"negatif\"\n",
      "}\n",
      "{\n",
      "   \"text\": \"malem admin transaksi number pembeli meminta pembatalan transaksi permintaan tidak dapat dituruti karena barang sudah dikirim dengan no resi number\",\n",
      "   \"predict\": \"negatif\"\n",
      "}\n"
     ]
    },
    {
     "name": "stderr",
     "output_type": "stream",
     "text": [
      " 73%|███████▎  | 73/100 [00:11<00:04,  5.99it/s]"
     ]
    },
    {
     "name": "stdout",
     "output_type": "stream",
     "text": [
      "{\n",
      "   \"text\": \"sejak tanggal number nyangkut ngga ada update padahal cuma kirim ke pulo gadung\",\n",
      "   \"predict\": \"negatif\"\n",
      "}\n",
      "{\n",
      "   \"text\": \"teknis pergantian nomornya gmana ya kan itu minta otp dari nomor sebelumnya sedangkan nomornya sudah tdk bisa menerima sms apakah verifikasinya bsa lewat email\",\n",
      "   \"predict\": \"negatif\"\n",
      "}\n"
     ]
    },
    {
     "name": "stderr",
     "output_type": "stream",
     "text": [
      " 75%|███████▌  | 75/100 [00:11<00:04,  5.91it/s]"
     ]
    },
    {
     "name": "stdout",
     "output_type": "stream",
     "text": [
      "{\n",
      "   \"text\": \"sama2 kak mudah2an segera selesai proses refund nya\",\n",
      "   \"predict\": \"negatif\"\n",
      "}\n",
      "{\n",
      "   \"text\": \"number dan jb0008306687 tidak bsa dtracking sya cek di app jnt udah valid di bukalapak masih menunggu dikirim pelapak besok jm number dana otomatis dbalikin jd gmn ya sya dah kirim barangnya smentara di app bukalapak blm dikirim\",\n",
      "   \"predict\": \"negatif\"\n",
      "}\n"
     ]
    },
    {
     "name": "stderr",
     "output_type": "stream",
     "text": [
      " 77%|███████▋  | 77/100 [00:12<00:03,  5.95it/s]"
     ]
    },
    {
     "name": "stdout",
     "output_type": "stream",
     "text": [
      "{\n",
      "   \"text\": \"maaf min tpi msih blm ad respon dari pihak supplier\",\n",
      "   \"predict\": \"negatif\"\n",
      "}\n",
      "{\n",
      "   \"text\": \"transaksi saya dengan toko tt mobile dengan pembelian pocophone f1 ram 6gb tom number gb telah dibatalkan karena penjual melewati waktu batas tetapi dana saya sebesar rp number tidak bisa ditarik kembali ke rekening saya\",\n",
      "   \"predict\": \"negatif\"\n",
      "}\n"
     ]
    },
    {
     "name": "stderr",
     "output_type": "stream",
     "text": [
      " 79%|███████▉  | 79/100 [00:12<00:03,  5.55it/s]"
     ]
    },
    {
     "name": "stdout",
     "output_type": "stream",
     "text": [
      "{\n",
      "   \"text\": \"beton instan indokon keunggulan beton instan\",\n",
      "   \"predict\": \"positif\"\n",
      "}\n",
      "{\n",
      "   \"text\": \"halo min ini gimana ya malah jadi ilang kaya gini\",\n",
      "   \"predict\": \"negatif\"\n",
      "}\n"
     ]
    },
    {
     "name": "stderr",
     "output_type": "stream",
     "text": [
      " 81%|████████  | 81/100 [00:12<00:03,  5.61it/s]"
     ]
    },
    {
     "name": "stdout",
     "output_type": "stream",
     "text": [
      "{\n",
      "   \"text\": \"min mohon penjelasan atas transaksi dengan nomer bl1811lhnm5minv terima kasih min\",\n",
      "   \"predict\": \"positif\"\n",
      "}\n",
      "{\n",
      "   \"text\": \"min cara cetak nota pembelian invoice gmn ya\",\n",
      "   \"predict\": \"negatif\"\n",
      "}\n"
     ]
    },
    {
     "name": "stderr",
     "output_type": "stream",
     "text": [
      " 83%|████████▎ | 83/100 [00:13<00:02,  5.76it/s]"
     ]
    },
    {
     "name": "stdout",
     "output_type": "stream",
     "text": [
      "{\n",
      "   \"text\": \"ko gak bisa ganti harga melalui hp kaya toko hijau sama toko orange sih min mohon bantuan dan penjelasannya\",\n",
      "   \"predict\": \"negatif\"\n",
      "}\n",
      "{\n",
      "   \"text\": \"sudah dua hari ini gw pakai ovo di error terus mau bayar ditolak terus padahal saldo cukup apakah ovo di tokopedia kalian sering error\",\n",
      "   \"predict\": \"negatif\"\n",
      "}\n"
     ]
    },
    {
     "name": "stderr",
     "output_type": "stream",
     "text": [
      " 85%|████████▌ | 85/100 [00:13<00:02,  5.76it/s]"
     ]
    },
    {
     "name": "stdout",
     "output_type": "stream",
     "text": [
      "{\n",
      "   \"text\": \"bos tokopedia tak khawatir pasarnya termakan amazon\",\n",
      "   \"predict\": \"negatif\"\n",
      "}\n",
      "{\n",
      "   \"text\": \"number mgkn yg buat sdg lelah\",\n",
      "   \"predict\": \"negatif\"\n",
      "}\n"
     ]
    },
    {
     "name": "stderr",
     "output_type": "stream",
     "text": [
      " 87%|████████▋ | 87/100 [00:13<00:02,  5.80it/s]"
     ]
    },
    {
     "name": "stdout",
     "output_type": "stream",
     "text": [
      "{\n",
      "   \"text\": \"masih bingung gimana cara belinya ini dia cara pembelian tiket hanya di mudah bukan\",\n",
      "   \"predict\": \"negatif\"\n",
      "}\n",
      "{\n",
      "   \"text\": \"halo ka saya baca tweet kk k tokopedia sbelumnya soal refumd limit cc proses nya udh slesai blm ka itu brp lama ya jdnya saya kena cancel soalnyamakasi sbelumnya\",\n",
      "   \"predict\": \"negatif\"\n",
      "}\n"
     ]
    },
    {
     "name": "stderr",
     "output_type": "stream",
     "text": [
      "\r",
      " 88%|████████▊ | 88/100 [00:14<00:02,  5.77it/s]"
     ]
    },
    {
     "name": "stdout",
     "output_type": "stream",
     "text": [
      "{\n",
      "   \"text\": \"today is the day jangan lupa datang ke pvj bandung foto di booth lalu tag shopee di instagram sertakan juga hashtag dan ya\",\n",
      "   \"predict\": \"negatif\"\n",
      "}\n",
      "{\n",
      "   \"text\": \"tolong bantu input resi phone ke transaksi number karna saya dropship uang kurirnya tolong dikembalikan saya ya makasih bukalapak ini buktinya\",\n",
      "   \"predict\": \"positif\"\n",
      "}\n"
     ]
    },
    {
     "name": "stderr",
     "output_type": "stream",
     "text": [
      "\r",
      " 90%|█████████ | 90/100 [00:14<00:01,  6.47it/s]"
     ]
    },
    {
     "name": "stdout",
     "output_type": "stream",
     "text": [
      "{\n",
      "   \"text\": \"apa apaan sekarang bayar apa apa di tokped ga bisa pakai transfer dari bank mandiri terus kalau mau bayar pake apa aneh\",\n",
      "   \"predict\": \"negatif\"\n",
      "}\n",
      "{\n",
      "   \"text\": \"rpw guys saranin gue nama2 kaya bukalapak samarata takasimurah tokopedia dll d\",\n",
      "   \"predict\": \"positif\"\n",
      "}\n"
     ]
    },
    {
     "name": "stderr",
     "output_type": "stream",
     "text": [
      " 93%|█████████▎| 93/100 [00:14<00:01,  6.52it/s]"
     ]
    },
    {
     "name": "stdout",
     "output_type": "stream",
     "text": [
      "{\n",
      "   \"text\": \"saya sudah melakukan pembayaran via indomaret dengan invoice inv number xviii xi number tp belum dapet notifikasi dari tokopedia apa menang dari indomaretnya belum melakukan transaksi atau dari tokopedianya yg belum verifikasi mohon solusinya\",\n",
      "   \"predict\": \"positif\"\n",
      "}\n",
      "{\n",
      "   \"text\": \"mohon bantuan barang saya dianggap ilegal melanggar aturan menjual black shark sementara barang yg saya jual bukan black shark mohon untuk direview terima kasih\",\n",
      "   \"predict\": \"negatif\"\n",
      "}\n"
     ]
    },
    {
     "name": "stderr",
     "output_type": "stream",
     "text": [
      " 95%|█████████▌| 95/100 [00:15<00:00,  6.14it/s]"
     ]
    },
    {
     "name": "stdout",
     "output_type": "stream",
     "text": [
      "{\n",
      "   \"text\": \"hooligans available juga di silahkan order sesuai yang loe suka gans\",\n",
      "   \"predict\": \"positif\"\n",
      "}\n",
      "{\n",
      "   \"text\": \"no transaksi number tolong jangan diremit dulu saya belum terima barangnya tapi status sudah diterima deliverednya malah ke palembang lagi padahal saya alamatnya di jogja\",\n",
      "   \"predict\": \"negatif\"\n",
      "}\n"
     ]
    },
    {
     "name": "stderr",
     "output_type": "stream",
     "text": [
      " 97%|█████████▋| 97/100 [00:15<00:00,  5.93it/s]"
     ]
    },
    {
     "name": "stdout",
     "output_type": "stream",
     "text": [
      "{\n",
      "   \"text\": \"admin apakah ga salah nih selisih ongkir sampai 50rb sedangkan di sistem barng besar hanya sampai 90rb paling mahal pembeli aja bayar 81rb kenapa minta tambah 50rb lagi\",\n",
      "   \"predict\": \"negatif\"\n",
      "}\n",
      "{\n",
      "   \"text\": \"halo min aku pemenang sampai skrg blm di dm juga buat konfirmasi padahal pemenang lain udah dan katanya nnt dikasih kabar lagi via dm ig decicici tp kok blm ada kabar juga\",\n",
      "   \"predict\": \"negatif\"\n",
      "}\n"
     ]
    },
    {
     "name": "stderr",
     "output_type": "stream",
     "text": [
      " 99%|█████████▉| 99/100 [00:15<00:00,  5.90it/s]"
     ]
    },
    {
     "name": "stdout",
     "output_type": "stream",
     "text": [
      "{\n",
      "   \"text\": \"min kenapa ga bisa login jaringan bermasalah terus padahal sinyal ok aplikasi lain lancar jaya\",\n",
      "   \"predict\": \"negatif\"\n",
      "}\n",
      "{\n",
      "   \"text\": \"mohon tokopedia klarifikasi seller nakal ngaku sebagai penjual ikan hias ini order sy inv number xviii x number sjak tgl number tidak ada kabar nya\",\n",
      "   \"predict\": \"negatif\"\n",
      "}\n"
     ]
    },
    {
     "name": "stderr",
     "output_type": "stream",
     "text": [
      "\r",
      "100%|██████████| 100/100 [00:15<00:00,  5.98it/s]"
     ]
    },
    {
     "name": "stdout",
     "output_type": "stream",
     "text": [
      "{\n",
      "   \"text\": \"menunggu ampe lebaran monyet kah liat penjual woii cape gue masa iya harus nunggu lama goblok\",\n",
      "   \"predict\": \"negatif\"\n",
      "}\n"
     ]
    },
    {
     "name": "stderr",
     "output_type": "stream",
     "text": [
      "\n"
     ]
    }
   ],
   "source": [
    "true, false = 0,0\n",
    "for i in tqdm(range(len(X[:100]))):\n",
    "    x = X[i]\n",
    "    predict_proba = neigh.predict_proba([x])[0]\n",
    "    predict = neigh.predict([x])[0]\n",
    "    \n",
    "    if predict == y[i]:\n",
    "        true += 1\n",
    "    else:\n",
    "        false += 1\n",
    "    result = {\n",
    "        \"text\": txt[i],\n",
    "        \"predict\": \"positif\" if predict == 1 else \"negatif\",\n",
    "#         \"predict_proba\": {\n",
    "#             \"positif\": predict_proba[1],\n",
    "#             \"negatif\": predict_proba[0]\n",
    "#         }\n",
    "    }\n",
    "    print(json.dumps(result, indent=3))\n",
    "    "
   ]
  },
  {
   "cell_type": "code",
   "execution_count": 262,
   "metadata": {},
   "outputs": [
    {
     "data": {
      "text/plain": [
       "81.79372197309416"
      ]
     },
     "execution_count": 262,
     "metadata": {},
     "output_type": "execute_result"
    }
   ],
   "source": [
    "(true/(true+false))*100"
   ]
  },
  {
   "cell_type": "code",
   "execution_count": null,
   "metadata": {},
   "outputs": [],
   "source": []
  }
 ],
 "metadata": {
  "kernelspec": {
   "display_name": "Python 3",
   "language": "python",
   "name": "python3"
  },
  "language_info": {
   "codemirror_mode": {
    "name": "ipython",
    "version": 3
   },
   "file_extension": ".py",
   "mimetype": "text/x-python",
   "name": "python",
   "nbconvert_exporter": "python",
   "pygments_lexer": "ipython3",
   "version": "3.6.5"
  }
 },
 "nbformat": 4,
 "nbformat_minor": 2
}
