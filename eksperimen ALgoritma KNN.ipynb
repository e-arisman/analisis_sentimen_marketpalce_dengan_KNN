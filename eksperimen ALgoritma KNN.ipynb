{
 "cells": [
  {
   "cell_type": "code",
   "execution_count": 1,
   "metadata": {},
   "outputs": [],
   "source": [
    "negative = [\n",
    "    \"Bodo amat  aku gk mau jadi langganan shopee lagi  bye\",\n",
    "    \"min kok saya ga dapat gratis ongkir kalo belanja 150 ribu\",\n",
    "    \"Makin ga enak aja ya mb smua dibatesin\",\n",
    "    \"shopee kenapa harus ganti kebijakan koin shopee si ah kamu kunaon sayang\"]\n",
    "\n",
    "positive = [\n",
    "    \"terima kasih untuk photoshoot dari event Ekspress nya semoga Project N Ent semakin lebih baik lagi  mari bekerja lebih keras\",\n",
    "    \"Misal punya saldo di bukalapak 100k tapi barang harga 200k  apa bisa digunakan untuk saldo 100k tersebut dan sisanya dibayarkan melalui metode lain\"\n",
    "    \"lewat kerjasama apik  Van Der Velden dan Spasojevic  Bali united berhasil memperkecil ketertinggalan mereka  bersama Bukalapak\",\n",
    "    \"Esteban Viszcara menggandakan keunggulan Sriwijaya FC atas Bali United   bersama Bukalapak\"\n",
    "]"
   ]
  },
  {
   "cell_type": "code",
   "execution_count": 2,
   "metadata": {},
   "outputs": [],
   "source": [
    "testing = \"Terima kasih  Semoga kedepannya bisa lebih baik lagi dalam mengedukasi dan bisa benar2 memastikan apakah penjual patut mendapatkan star seller Selamat hari Selasa\""
   ]
  },
  {
   "cell_type": "code",
   "execution_count": 3,
   "metadata": {},
   "outputs": [],
   "source": [
    "data = {}\n",
    "for neg in negative:\n",
    "    data[neg] = \"negatif\"\n",
    "for pos in positive:\n",
    "    data[pos] = \"positif\""
   ]
  },
  {
   "cell_type": "code",
   "execution_count": 4,
   "metadata": {},
   "outputs": [],
   "source": [
    "txt = []\n",
    "sen = []\n",
    "kata_unik = []\n",
    "for k, v in data.items():\n",
    "    txt.append(k)\n",
    "    sen.append(v)\n",
    "    for ts in k.strip().split():\n",
    "        kata_unik.append(ts)"
   ]
  },
  {
   "cell_type": "code",
   "execution_count": 152,
   "metadata": {},
   "outputs": [
    {
     "data": {
      "text/plain": [
       "'negatif'"
      ]
     },
     "execution_count": 152,
     "metadata": {},
     "output_type": "execute_result"
    }
   ],
   "source": []
  },
  {
   "cell_type": "code",
   "execution_count": 5,
   "metadata": {},
   "outputs": [],
   "source": [
    "kata_unik = set(kata_unik)"
   ]
  },
  {
   "cell_type": "code",
   "execution_count": 6,
   "metadata": {},
   "outputs": [],
   "source": [
    "list_vec = []\n",
    "for tx in txt:\n",
    "    kata_unik_ = dict.fromkeys(kata_unik, 0)\n",
    "    for t in tx.strip().replace(\"   \", \" \").replace(\"  \", \" \").split(\" \"):\n",
    "        try:\n",
    "            kata_unik_[t] += 1\n",
    "        except Exception as e:\n",
    "            print(e)\n",
    "            print(tx)\n",
    "    list_vec.append(kata_unik_)"
   ]
  },
  {
   "cell_type": "code",
   "execution_count": 8,
   "metadata": {},
   "outputs": [],
   "source": [
    "def computeTF(wordDict, bow):\n",
    "    tfDict = {}\n",
    "    bowCount = len(bow)\n",
    "    for word, count in wordDict.items():\n",
    "        tfDict[word] = count/float(bowCount)\n",
    "        \n",
    "    return tfDict"
   ]
  },
  {
   "cell_type": "code",
   "execution_count": 9,
   "metadata": {},
   "outputs": [],
   "source": [
    "tf = []\n",
    "for i in range(len(list_vec)):\n",
    "    tf.append(computeTF(list_vec[i], txt[i].strip().replace(\"   \", \" \").replace(\"  \", \" \").split(\" \")))"
   ]
  },
  {
   "cell_type": "code",
   "execution_count": 136,
   "metadata": {},
   "outputs": [],
   "source": [
    "def computeIDF(docList):\n",
    "    import math\n",
    "    idfDict = {}\n",
    "    N = len(docList)\n",
    "    \n",
    "    idfDict = dict.fromkeys(docList[0].keys(), 0)\n",
    "    for doc in docList:\n",
    "        for word, val in doc.items():\n",
    "            if val > 0:\n",
    "                idfDict[word] += 1\n",
    "    \n",
    "    for word, val in idfDict.items():\n",
    "        idfDict[word] = math.log10(N / float(val))\n",
    "        \n",
    "    return idfDict"
   ]
  },
  {
   "cell_type": "code",
   "execution_count": 137,
   "metadata": {},
   "outputs": [],
   "source": [
    "idfs = computeIDF(tf)"
   ]
  },
  {
   "cell_type": "code",
   "execution_count": 146,
   "metadata": {},
   "outputs": [
    {
     "data": {
      "text/plain": [
       "{'Spasojevic': 0.8450980400142568,\n",
       " 'kok': 0.8450980400142568,\n",
       " 'aja': 0.8450980400142568,\n",
       " 'bukalapak': 0.8450980400142568,\n",
       " 'langganan': 0.8450980400142568,\n",
       " 'Project': 0.8450980400142568,\n",
       " 'baik': 0.8450980400142568,\n",
       " 'kalo': 0.8450980400142568,\n",
       " 'harus': 0.8450980400142568,\n",
       " 'sisanya': 0.8450980400142568,\n",
       " 'melalui': 0.8450980400142568,\n",
       " 'Ent': 0.8450980400142568,\n",
       " 'atas': 0.8450980400142568,\n",
       " 'enak': 0.8450980400142568,\n",
       " 'apik': 0.8450980400142568,\n",
       " 'saldo': 0.8450980400142568,\n",
       " 'ganti': 0.8450980400142568,\n",
       " 'bisa': 0.8450980400142568,\n",
       " 'N': 0.8450980400142568,\n",
       " 'Velden': 0.8450980400142568,\n",
       " '100k': 0.8450980400142568,\n",
       " 'gk': 0.8450980400142568,\n",
       " 'harga': 0.8450980400142568,\n",
       " 'mb': 0.8450980400142568,\n",
       " 'lagi': 0.5440680443502757,\n",
       " 'mau': 0.8450980400142568,\n",
       " 'kamu': 0.8450980400142568,\n",
       " 'semakin': 0.8450980400142568,\n",
       " 'Misal': 0.8450980400142568,\n",
       " 'sayang': 0.8450980400142568,\n",
       " 'nya': 0.8450980400142568,\n",
       " 'United': 0.8450980400142568,\n",
       " 'Sriwijaya': 0.8450980400142568,\n",
       " 'kebijakan': 0.8450980400142568,\n",
       " 'bye': 0.8450980400142568,\n",
       " 'dapat': 0.8450980400142568,\n",
       " 'Esteban': 0.8450980400142568,\n",
       " 'kerjasama': 0.8450980400142568,\n",
       " 'lebih': 0.8450980400142568,\n",
       " 'apa': 0.8450980400142568,\n",
       " 'terima': 0.8450980400142568,\n",
       " 'untuk': 0.5440680443502757,\n",
       " 'kasih': 0.8450980400142568,\n",
       " 'tapi': 0.8450980400142568,\n",
       " 'Ekspress': 0.8450980400142568,\n",
       " 'smua': 0.8450980400142568,\n",
       " 'mereka': 0.8450980400142568,\n",
       " 'event': 0.8450980400142568,\n",
       " 'ketertinggalan': 0.8450980400142568,\n",
       " 'dari': 0.8450980400142568,\n",
       " 'keunggulan': 0.8450980400142568,\n",
       " 'Bali': 0.5440680443502757,\n",
       " 'ga': 0.5440680443502757,\n",
       " 'bekerja': 0.8450980400142568,\n",
       " 'amat': 0.8450980400142568,\n",
       " 'digunakan': 0.8450980400142568,\n",
       " 'Van': 0.8450980400142568,\n",
       " 'united': 0.8450980400142568,\n",
       " 'di': 0.8450980400142568,\n",
       " 'ongkir': 0.8450980400142568,\n",
       " 'mari': 0.8450980400142568,\n",
       " 'aku': 0.8450980400142568,\n",
       " 'dibayarkan': 0.8450980400142568,\n",
       " '150': 0.8450980400142568,\n",
       " 'gratis': 0.8450980400142568,\n",
       " 'Makin': 0.8450980400142568,\n",
       " 'shopee': 0.5440680443502757,\n",
       " 'Der': 0.8450980400142568,\n",
       " 'ribu': 0.8450980400142568,\n",
       " 'barang': 0.8450980400142568,\n",
       " 'kenapa': 0.8450980400142568,\n",
       " 'koin': 0.8450980400142568,\n",
       " 'berhasil': 0.8450980400142568,\n",
       " 'kunaon': 0.8450980400142568,\n",
       " 'punya': 0.8450980400142568,\n",
       " 'Bukalapak': 0.5440680443502757,\n",
       " 'photoshoot': 0.8450980400142568,\n",
       " 'FC': 0.8450980400142568,\n",
       " 'si': 0.8450980400142568,\n",
       " 'metode': 0.8450980400142568,\n",
       " 'keras': 0.8450980400142568,\n",
       " 'memperkecil': 0.8450980400142568,\n",
       " 'Bodo': 0.8450980400142568,\n",
       " 'Viszcara': 0.8450980400142568,\n",
       " 'menggandakan': 0.8450980400142568,\n",
       " 'jadi': 0.8450980400142568,\n",
       " 'dan': 0.8450980400142568,\n",
       " 'min': 0.8450980400142568,\n",
       " 'semoga': 0.8450980400142568,\n",
       " 'lainlewat': 0.8450980400142568,\n",
       " 'saya': 0.8450980400142568,\n",
       " 'bersama': 0.5440680443502757,\n",
       " 'belanja': 0.8450980400142568,\n",
       " 'ah': 0.8450980400142568,\n",
       " 'ya': 0.8450980400142568,\n",
       " 'dibatesin': 0.8450980400142568,\n",
       " '200k': 0.8450980400142568,\n",
       " 'tersebut': 0.8450980400142568}"
      ]
     },
     "execution_count": 146,
     "metadata": {},
     "output_type": "execute_result"
    }
   ],
   "source": [
    "idfs"
   ]
  },
  {
   "cell_type": "code",
   "execution_count": 141,
   "metadata": {},
   "outputs": [],
   "source": [
    "def computeTFIDF(tfBow, idfs):\n",
    "    tfidf = {}\n",
    "    for word, val in tfBow.items():\n",
    "        tfidf[word] = val*idfs[word]\n",
    "    return tfidf"
   ]
  },
  {
   "cell_type": "code",
   "execution_count": 158,
   "metadata": {},
   "outputs": [],
   "source": [
    "final_vec = []\n",
    "for i in range(len(tf)):\n",
    "    tfidf = computeTFIDF(tf[i], idfs)\n",
    "    value = []\n",
    "    for k, v in tfidf.items():\n",
    "        value.append(v)\n",
    "\n",
    "    value.append(sen[i])\n",
    "    final_vec.append(value)"
   ]
  },
  {
   "cell_type": "code",
   "execution_count": 159,
   "metadata": {},
   "outputs": [
    {
     "data": {
      "text/plain": [
       "[[0.0,\n",
       "  0.0,\n",
       "  0.0,\n",
       "  0.0,\n",
       "  0.08450980400142569,\n",
       "  0.0,\n",
       "  0.0,\n",
       "  0.0,\n",
       "  0.0,\n",
       "  0.0,\n",
       "  0.0,\n",
       "  0.0,\n",
       "  0.0,\n",
       "  0.0,\n",
       "  0.0,\n",
       "  0.0,\n",
       "  0.0,\n",
       "  0.0,\n",
       "  0.0,\n",
       "  0.0,\n",
       "  0.0,\n",
       "  0.08450980400142569,\n",
       "  0.0,\n",
       "  0.0,\n",
       "  0.05440680443502757,\n",
       "  0.08450980400142569,\n",
       "  0.0,\n",
       "  0.0,\n",
       "  0.0,\n",
       "  0.0,\n",
       "  0.0,\n",
       "  0.0,\n",
       "  0.0,\n",
       "  0.0,\n",
       "  0.08450980400142569,\n",
       "  0.0,\n",
       "  0.0,\n",
       "  0.0,\n",
       "  0.0,\n",
       "  0.0,\n",
       "  0.0,\n",
       "  0.0,\n",
       "  0.0,\n",
       "  0.0,\n",
       "  0.0,\n",
       "  0.0,\n",
       "  0.0,\n",
       "  0.0,\n",
       "  0.0,\n",
       "  0.0,\n",
       "  0.0,\n",
       "  0.0,\n",
       "  0.0,\n",
       "  0.0,\n",
       "  0.08450980400142569,\n",
       "  0.0,\n",
       "  0.0,\n",
       "  0.0,\n",
       "  0.0,\n",
       "  0.0,\n",
       "  0.0,\n",
       "  0.08450980400142569,\n",
       "  0.0,\n",
       "  0.0,\n",
       "  0.0,\n",
       "  0.0,\n",
       "  0.05440680443502757,\n",
       "  0.0,\n",
       "  0.0,\n",
       "  0.0,\n",
       "  0.0,\n",
       "  0.0,\n",
       "  0.0,\n",
       "  0.0,\n",
       "  0.0,\n",
       "  0.0,\n",
       "  0.0,\n",
       "  0.0,\n",
       "  0.0,\n",
       "  0.0,\n",
       "  0.0,\n",
       "  0.0,\n",
       "  0.08450980400142569,\n",
       "  0.0,\n",
       "  0.0,\n",
       "  0.08450980400142569,\n",
       "  0.0,\n",
       "  0.0,\n",
       "  0.0,\n",
       "  0.0,\n",
       "  0.0,\n",
       "  0.0,\n",
       "  0.0,\n",
       "  0.0,\n",
       "  0.0,\n",
       "  0.0,\n",
       "  0.0,\n",
       "  0.0,\n",
       "  'negatif'],\n",
       " [0.0,\n",
       "  0.07682709454675062,\n",
       "  0.0,\n",
       "  0.0,\n",
       "  0.0,\n",
       "  0.0,\n",
       "  0.0,\n",
       "  0.07682709454675062,\n",
       "  0.0,\n",
       "  0.0,\n",
       "  0.0,\n",
       "  0.0,\n",
       "  0.0,\n",
       "  0.0,\n",
       "  0.0,\n",
       "  0.0,\n",
       "  0.0,\n",
       "  0.0,\n",
       "  0.0,\n",
       "  0.0,\n",
       "  0.0,\n",
       "  0.0,\n",
       "  0.0,\n",
       "  0.0,\n",
       "  0.0,\n",
       "  0.0,\n",
       "  0.0,\n",
       "  0.0,\n",
       "  0.0,\n",
       "  0.0,\n",
       "  0.0,\n",
       "  0.0,\n",
       "  0.0,\n",
       "  0.0,\n",
       "  0.0,\n",
       "  0.07682709454675062,\n",
       "  0.0,\n",
       "  0.0,\n",
       "  0.0,\n",
       "  0.0,\n",
       "  0.0,\n",
       "  0.0,\n",
       "  0.0,\n",
       "  0.0,\n",
       "  0.0,\n",
       "  0.0,\n",
       "  0.0,\n",
       "  0.0,\n",
       "  0.0,\n",
       "  0.0,\n",
       "  0.0,\n",
       "  0.0,\n",
       "  0.049460731304570515,\n",
       "  0.0,\n",
       "  0.0,\n",
       "  0.0,\n",
       "  0.0,\n",
       "  0.0,\n",
       "  0.0,\n",
       "  0.07682709454675062,\n",
       "  0.0,\n",
       "  0.0,\n",
       "  0.0,\n",
       "  0.07682709454675062,\n",
       "  0.07682709454675062,\n",
       "  0.0,\n",
       "  0.0,\n",
       "  0.0,\n",
       "  0.07682709454675062,\n",
       "  0.0,\n",
       "  0.0,\n",
       "  0.0,\n",
       "  0.0,\n",
       "  0.0,\n",
       "  0.0,\n",
       "  0.0,\n",
       "  0.0,\n",
       "  0.0,\n",
       "  0.0,\n",
       "  0.0,\n",
       "  0.0,\n",
       "  0.0,\n",
       "  0.0,\n",
       "  0.0,\n",
       "  0.0,\n",
       "  0.0,\n",
       "  0.0,\n",
       "  0.07682709454675062,\n",
       "  0.0,\n",
       "  0.0,\n",
       "  0.07682709454675062,\n",
       "  0.0,\n",
       "  0.07682709454675062,\n",
       "  0.0,\n",
       "  0.0,\n",
       "  0.0,\n",
       "  0.0,\n",
       "  0.0,\n",
       "  'negatif'],\n",
       " [0.0,\n",
       "  0.0,\n",
       "  0.1056372550017821,\n",
       "  0.0,\n",
       "  0.0,\n",
       "  0.0,\n",
       "  0.0,\n",
       "  0.0,\n",
       "  0.0,\n",
       "  0.0,\n",
       "  0.0,\n",
       "  0.0,\n",
       "  0.0,\n",
       "  0.1056372550017821,\n",
       "  0.0,\n",
       "  0.0,\n",
       "  0.0,\n",
       "  0.0,\n",
       "  0.0,\n",
       "  0.0,\n",
       "  0.0,\n",
       "  0.0,\n",
       "  0.0,\n",
       "  0.1056372550017821,\n",
       "  0.0,\n",
       "  0.0,\n",
       "  0.0,\n",
       "  0.0,\n",
       "  0.0,\n",
       "  0.0,\n",
       "  0.0,\n",
       "  0.0,\n",
       "  0.0,\n",
       "  0.0,\n",
       "  0.0,\n",
       "  0.0,\n",
       "  0.0,\n",
       "  0.0,\n",
       "  0.0,\n",
       "  0.0,\n",
       "  0.0,\n",
       "  0.0,\n",
       "  0.0,\n",
       "  0.0,\n",
       "  0.0,\n",
       "  0.1056372550017821,\n",
       "  0.0,\n",
       "  0.0,\n",
       "  0.0,\n",
       "  0.0,\n",
       "  0.0,\n",
       "  0.0,\n",
       "  0.06800850554378446,\n",
       "  0.0,\n",
       "  0.0,\n",
       "  0.0,\n",
       "  0.0,\n",
       "  0.0,\n",
       "  0.0,\n",
       "  0.0,\n",
       "  0.0,\n",
       "  0.0,\n",
       "  0.0,\n",
       "  0.0,\n",
       "  0.0,\n",
       "  0.1056372550017821,\n",
       "  0.0,\n",
       "  0.0,\n",
       "  0.0,\n",
       "  0.0,\n",
       "  0.0,\n",
       "  0.0,\n",
       "  0.0,\n",
       "  0.0,\n",
       "  0.0,\n",
       "  0.0,\n",
       "  0.0,\n",
       "  0.0,\n",
       "  0.0,\n",
       "  0.0,\n",
       "  0.0,\n",
       "  0.0,\n",
       "  0.0,\n",
       "  0.0,\n",
       "  0.0,\n",
       "  0.0,\n",
       "  0.0,\n",
       "  0.0,\n",
       "  0.0,\n",
       "  0.0,\n",
       "  0.0,\n",
       "  0.0,\n",
       "  0.0,\n",
       "  0.0,\n",
       "  0.1056372550017821,\n",
       "  0.1056372550017821,\n",
       "  0.0,\n",
       "  0.0,\n",
       "  'negatif'],\n",
       " [0.0,\n",
       "  0.0,\n",
       "  0.0,\n",
       "  0.0,\n",
       "  0.0,\n",
       "  0.0,\n",
       "  0.0,\n",
       "  0.0,\n",
       "  0.07042483666785473,\n",
       "  0.0,\n",
       "  0.0,\n",
       "  0.0,\n",
       "  0.0,\n",
       "  0.0,\n",
       "  0.0,\n",
       "  0.0,\n",
       "  0.07042483666785473,\n",
       "  0.0,\n",
       "  0.0,\n",
       "  0.0,\n",
       "  0.0,\n",
       "  0.0,\n",
       "  0.0,\n",
       "  0.0,\n",
       "  0.0,\n",
       "  0.0,\n",
       "  0.07042483666785473,\n",
       "  0.0,\n",
       "  0.0,\n",
       "  0.07042483666785473,\n",
       "  0.0,\n",
       "  0.0,\n",
       "  0.0,\n",
       "  0.07042483666785473,\n",
       "  0.0,\n",
       "  0.0,\n",
       "  0.0,\n",
       "  0.0,\n",
       "  0.0,\n",
       "  0.0,\n",
       "  0.0,\n",
       "  0.0,\n",
       "  0.0,\n",
       "  0.0,\n",
       "  0.0,\n",
       "  0.0,\n",
       "  0.0,\n",
       "  0.0,\n",
       "  0.0,\n",
       "  0.0,\n",
       "  0.0,\n",
       "  0.0,\n",
       "  0.0,\n",
       "  0.0,\n",
       "  0.0,\n",
       "  0.0,\n",
       "  0.0,\n",
       "  0.0,\n",
       "  0.0,\n",
       "  0.0,\n",
       "  0.0,\n",
       "  0.0,\n",
       "  0.0,\n",
       "  0.0,\n",
       "  0.0,\n",
       "  0.0,\n",
       "  0.09067800739171261,\n",
       "  0.0,\n",
       "  0.0,\n",
       "  0.0,\n",
       "  0.07042483666785473,\n",
       "  0.07042483666785473,\n",
       "  0.0,\n",
       "  0.07042483666785473,\n",
       "  0.0,\n",
       "  0.0,\n",
       "  0.0,\n",
       "  0.0,\n",
       "  0.07042483666785473,\n",
       "  0.0,\n",
       "  0.0,\n",
       "  0.0,\n",
       "  0.0,\n",
       "  0.0,\n",
       "  0.0,\n",
       "  0.0,\n",
       "  0.0,\n",
       "  0.0,\n",
       "  0.0,\n",
       "  0.0,\n",
       "  0.0,\n",
       "  0.0,\n",
       "  0.0,\n",
       "  0.07042483666785473,\n",
       "  0.0,\n",
       "  0.0,\n",
       "  0.0,\n",
       "  0.0,\n",
       "  'negatif'],\n",
       " [0.0,\n",
       "  0.0,\n",
       "  0.0,\n",
       "  0.0,\n",
       "  0.0,\n",
       "  0.04225490200071284,\n",
       "  0.04225490200071284,\n",
       "  0.0,\n",
       "  0.0,\n",
       "  0.0,\n",
       "  0.0,\n",
       "  0.04225490200071284,\n",
       "  0.0,\n",
       "  0.0,\n",
       "  0.0,\n",
       "  0.0,\n",
       "  0.0,\n",
       "  0.0,\n",
       "  0.04225490200071284,\n",
       "  0.0,\n",
       "  0.0,\n",
       "  0.0,\n",
       "  0.0,\n",
       "  0.0,\n",
       "  0.027203402217513786,\n",
       "  0.0,\n",
       "  0.0,\n",
       "  0.04225490200071284,\n",
       "  0.0,\n",
       "  0.0,\n",
       "  0.04225490200071284,\n",
       "  0.0,\n",
       "  0.0,\n",
       "  0.0,\n",
       "  0.0,\n",
       "  0.0,\n",
       "  0.0,\n",
       "  0.0,\n",
       "  0.08450980400142569,\n",
       "  0.0,\n",
       "  0.04225490200071284,\n",
       "  0.027203402217513786,\n",
       "  0.04225490200071284,\n",
       "  0.0,\n",
       "  0.04225490200071284,\n",
       "  0.0,\n",
       "  0.0,\n",
       "  0.04225490200071284,\n",
       "  0.0,\n",
       "  0.04225490200071284,\n",
       "  0.0,\n",
       "  0.0,\n",
       "  0.0,\n",
       "  0.04225490200071284,\n",
       "  0.0,\n",
       "  0.0,\n",
       "  0.0,\n",
       "  0.0,\n",
       "  0.0,\n",
       "  0.0,\n",
       "  0.04225490200071284,\n",
       "  0.0,\n",
       "  0.0,\n",
       "  0.0,\n",
       "  0.0,\n",
       "  0.0,\n",
       "  0.0,\n",
       "  0.0,\n",
       "  0.0,\n",
       "  0.0,\n",
       "  0.0,\n",
       "  0.0,\n",
       "  0.0,\n",
       "  0.0,\n",
       "  0.0,\n",
       "  0.0,\n",
       "  0.04225490200071284,\n",
       "  0.0,\n",
       "  0.0,\n",
       "  0.0,\n",
       "  0.04225490200071284,\n",
       "  0.0,\n",
       "  0.0,\n",
       "  0.0,\n",
       "  0.0,\n",
       "  0.0,\n",
       "  0.0,\n",
       "  0.0,\n",
       "  0.04225490200071284,\n",
       "  0.0,\n",
       "  0.0,\n",
       "  0.0,\n",
       "  0.0,\n",
       "  0.0,\n",
       "  0.0,\n",
       "  0.0,\n",
       "  0.0,\n",
       "  0.0,\n",
       "  'positif'],\n",
       " [0.022239422105638337,\n",
       "  0.0,\n",
       "  0.0,\n",
       "  0.022239422105638337,\n",
       "  0.0,\n",
       "  0.0,\n",
       "  0.0,\n",
       "  0.0,\n",
       "  0.0,\n",
       "  0.022239422105638337,\n",
       "  0.022239422105638337,\n",
       "  0.0,\n",
       "  0.0,\n",
       "  0.0,\n",
       "  0.022239422105638337,\n",
       "  0.04447884421127667,\n",
       "  0.0,\n",
       "  0.022239422105638337,\n",
       "  0.0,\n",
       "  0.022239422105638337,\n",
       "  0.04447884421127667,\n",
       "  0.0,\n",
       "  0.022239422105638337,\n",
       "  0.0,\n",
       "  0.0,\n",
       "  0.0,\n",
       "  0.0,\n",
       "  0.0,\n",
       "  0.022239422105638337,\n",
       "  0.0,\n",
       "  0.0,\n",
       "  0.0,\n",
       "  0.0,\n",
       "  0.0,\n",
       "  0.0,\n",
       "  0.0,\n",
       "  0.0,\n",
       "  0.022239422105638337,\n",
       "  0.0,\n",
       "  0.022239422105638337,\n",
       "  0.0,\n",
       "  0.014317580114480939,\n",
       "  0.0,\n",
       "  0.022239422105638337,\n",
       "  0.0,\n",
       "  0.0,\n",
       "  0.022239422105638337,\n",
       "  0.0,\n",
       "  0.022239422105638337,\n",
       "  0.0,\n",
       "  0.0,\n",
       "  0.014317580114480939,\n",
       "  0.0,\n",
       "  0.0,\n",
       "  0.0,\n",
       "  0.022239422105638337,\n",
       "  0.022239422105638337,\n",
       "  0.022239422105638337,\n",
       "  0.022239422105638337,\n",
       "  0.0,\n",
       "  0.0,\n",
       "  0.0,\n",
       "  0.022239422105638337,\n",
       "  0.0,\n",
       "  0.0,\n",
       "  0.0,\n",
       "  0.0,\n",
       "  0.022239422105638337,\n",
       "  0.0,\n",
       "  0.022239422105638337,\n",
       "  0.0,\n",
       "  0.0,\n",
       "  0.022239422105638337,\n",
       "  0.0,\n",
       "  0.022239422105638337,\n",
       "  0.014317580114480939,\n",
       "  0.0,\n",
       "  0.0,\n",
       "  0.0,\n",
       "  0.022239422105638337,\n",
       "  0.0,\n",
       "  0.022239422105638337,\n",
       "  0.0,\n",
       "  0.0,\n",
       "  0.0,\n",
       "  0.0,\n",
       "  0.04447884421127667,\n",
       "  0.0,\n",
       "  0.0,\n",
       "  0.022239422105638337,\n",
       "  0.0,\n",
       "  0.014317580114480939,\n",
       "  0.0,\n",
       "  0.0,\n",
       "  0.0,\n",
       "  0.0,\n",
       "  0.022239422105638337,\n",
       "  0.022239422105638337,\n",
       "  'positif'],\n",
       " [0.0,\n",
       "  0.0,\n",
       "  0.0,\n",
       "  0.0,\n",
       "  0.0,\n",
       "  0.0,\n",
       "  0.0,\n",
       "  0.0,\n",
       "  0.0,\n",
       "  0.0,\n",
       "  0.0,\n",
       "  0.0,\n",
       "  0.07682709454675062,\n",
       "  0.0,\n",
       "  0.0,\n",
       "  0.0,\n",
       "  0.0,\n",
       "  0.0,\n",
       "  0.0,\n",
       "  0.0,\n",
       "  0.0,\n",
       "  0.0,\n",
       "  0.0,\n",
       "  0.0,\n",
       "  0.0,\n",
       "  0.0,\n",
       "  0.0,\n",
       "  0.0,\n",
       "  0.0,\n",
       "  0.0,\n",
       "  0.0,\n",
       "  0.07682709454675062,\n",
       "  0.07682709454675062,\n",
       "  0.0,\n",
       "  0.0,\n",
       "  0.0,\n",
       "  0.07682709454675062,\n",
       "  0.0,\n",
       "  0.0,\n",
       "  0.0,\n",
       "  0.0,\n",
       "  0.0,\n",
       "  0.0,\n",
       "  0.0,\n",
       "  0.0,\n",
       "  0.0,\n",
       "  0.0,\n",
       "  0.0,\n",
       "  0.0,\n",
       "  0.0,\n",
       "  0.07682709454675062,\n",
       "  0.049460731304570515,\n",
       "  0.0,\n",
       "  0.0,\n",
       "  0.0,\n",
       "  0.0,\n",
       "  0.0,\n",
       "  0.0,\n",
       "  0.0,\n",
       "  0.0,\n",
       "  0.0,\n",
       "  0.0,\n",
       "  0.0,\n",
       "  0.0,\n",
       "  0.0,\n",
       "  0.0,\n",
       "  0.0,\n",
       "  0.0,\n",
       "  0.0,\n",
       "  0.0,\n",
       "  0.0,\n",
       "  0.0,\n",
       "  0.0,\n",
       "  0.0,\n",
       "  0.0,\n",
       "  0.049460731304570515,\n",
       "  0.0,\n",
       "  0.07682709454675062,\n",
       "  0.0,\n",
       "  0.0,\n",
       "  0.0,\n",
       "  0.0,\n",
       "  0.0,\n",
       "  0.07682709454675062,\n",
       "  0.07682709454675062,\n",
       "  0.0,\n",
       "  0.0,\n",
       "  0.0,\n",
       "  0.0,\n",
       "  0.0,\n",
       "  0.0,\n",
       "  0.049460731304570515,\n",
       "  0.0,\n",
       "  0.0,\n",
       "  0.0,\n",
       "  0.0,\n",
       "  0.0,\n",
       "  0.0,\n",
       "  'positif']]"
      ]
     },
     "execution_count": 159,
     "metadata": {},
     "output_type": "execute_result"
    }
   ],
   "source": [
    "final_vec"
   ]
  },
  {
   "cell_type": "code",
   "execution_count": 148,
   "metadata": {},
   "outputs": [],
   "source": [
    "a = [1, 2]"
   ]
  },
  {
   "cell_type": "code",
   "execution_count": 153,
   "metadata": {},
   "outputs": [],
   "source": [
    "a.append(sen[0])"
   ]
  },
  {
   "cell_type": "code",
   "execution_count": 154,
   "metadata": {},
   "outputs": [
    {
     "data": {
      "text/plain": [
       "[1, 2, 'negatif']"
      ]
     },
     "execution_count": 154,
     "metadata": {},
     "output_type": "execute_result"
    }
   ],
   "source": [
    "a"
   ]
  },
  {
   "cell_type": "code",
   "execution_count": 121,
   "metadata": {},
   "outputs": [],
   "source": [
    "test = testing.split()"
   ]
  },
  {
   "cell_type": "code",
   "execution_count": 122,
   "metadata": {},
   "outputs": [],
   "source": [
    "wordDicTest = dict.fromkeys(kata_unik, 0)"
   ]
  },
  {
   "cell_type": "code",
   "execution_count": 124,
   "metadata": {},
   "outputs": [],
   "source": [
    "for tt in test:\n",
    "    try:\n",
    "        wordDicTest[tt] +=1\n",
    "    except:\n",
    "        pass"
   ]
  },
  {
   "cell_type": "code",
   "execution_count": 126,
   "metadata": {},
   "outputs": [],
   "source": [
    "tfTEst = computeTF(wordDicTest, test)"
   ]
  },
  {
   "cell_type": "code",
   "execution_count": 139,
   "metadata": {},
   "outputs": [],
   "source": [
    "idf_test = computeTFIDF(tfTEst, idfs)"
   ]
  },
  {
   "cell_type": "code",
   "execution_count": 160,
   "metadata": {},
   "outputs": [],
   "source": [
    "test_vec = []\n",
    "for k, v in idf_test.items():\n",
    "    test_vec.append(v)"
   ]
  },
  {
   "cell_type": "code",
   "execution_count": 93,
   "metadata": {},
   "outputs": [],
   "source": [
    "#Rumus Euclidean Distance\n",
    "# sqrt((q1 - p1)**2 + (q2 - p2)**2 + ... + (qn - pn)**2)\n",
    "# x = [2, 0, 6]\n",
    "# result = []\n",
    "# for k, v in data.items():\n",
    "#     for val in  v:\n",
    "#         result_power = []\n",
    "#         for i in range(len(val)):\n",
    "#             result_subtract = val[i] - x[i]\n",
    "#             result_power.append(pow((val[i] - x[i]), 2))\n",
    "#         result_sum = sum(result_power)\n",
    "#         result_root = math.sqrt(result_sum)\n",
    "#         result.append((k, result_root))"
   ]
  },
  {
   "cell_type": "code",
   "execution_count": 126,
   "metadata": {},
   "outputs": [],
   "source": [
    "# result_asc = sorted(result, key=lambda x:x[1], reverse=False)"
   ]
  },
  {
   "cell_type": "code",
   "execution_count": 95,
   "metadata": {},
   "outputs": [],
   "source": [
    "# k = 3"
   ]
  },
  {
   "cell_type": "code",
   "execution_count": 124,
   "metadata": {},
   "outputs": [],
   "source": [
    "# cnt = Counter()\n",
    "# for c in cc[:k]:\n",
    "# #     cnt[c[0]] +=1"
   ]
  },
  {
   "cell_type": "code",
   "execution_count": 87,
   "metadata": {},
   "outputs": [],
   "source": [
    "# cnt = Counter()\n",
    "# for i in range(10):\n",
    "#     if i%2 == 0:\n",
    "#         cnt[\"genap\"] += 1\n",
    "#     else:\n",
    "#         cnt[\"ganjil\"] +=1"
   ]
  },
  {
   "cell_type": "code",
   "execution_count": 170,
   "metadata": {},
   "outputs": [],
   "source": [
    "def euclidianDistance(sample1, sample2):\n",
    "    distance = 0\n",
    "    for x in range(len(sample1)):\n",
    "        distance += pow(sample1[x] - sample2[x], 2)\n",
    "\n",
    "    return math.sqrt(distance)"
   ]
  },
  {
   "cell_type": "code",
   "execution_count": 164,
   "metadata": {},
   "outputs": [],
   "source": [
    "def getNeighbors(train_set, test_sample, k):\n",
    "    distances = []\n",
    "    neighbors = []\n",
    "    \n",
    "    for x in range(len(train_set)):\n",
    "        dist = euclidianDistance(test_sample, train_set[x])\n",
    "        distances.append((train_set[x], dist))\n",
    "        \n",
    "    distances.sort(key=operator.itemgetter(1))\n",
    "\n",
    "    for x in range(k):\n",
    "        neighbors.append(distances[x][0])\n",
    "    \n",
    "    return neighbors"
   ]
  },
  {
   "cell_type": "code",
   "execution_count": 165,
   "metadata": {},
   "outputs": [],
   "source": [
    "def getResponse(neighbors):\n",
    "    classVotes = {}\n",
    "    \n",
    "    for x in range(len(neighbors)):\n",
    "        response = neighbors[x][-1]\n",
    "        if response in classVotes:\n",
    "            classVotes[response] += 1\n",
    "        else:\n",
    "            classVotes[response] = 1\n",
    "            \n",
    "    sortedVotes = sorted(classVotes.items(), key=operator.itemgetter(1), reverse=True)\n",
    "    return sortedVotes[0][0]"
   ]
  },
  {
   "cell_type": "code",
   "execution_count": 172,
   "metadata": {},
   "outputs": [],
   "source": [
    "import math\n",
    "import operator"
   ]
  },
  {
   "cell_type": "code",
   "execution_count": 175,
   "metadata": {},
   "outputs": [],
   "source": [
    "k = 4"
   ]
  },
  {
   "cell_type": "code",
   "execution_count": 176,
   "metadata": {},
   "outputs": [
    {
     "data": {
      "text/plain": [
       "'positif'"
      ]
     },
     "execution_count": 176,
     "metadata": {},
     "output_type": "execute_result"
    }
   ],
   "source": [
    "getResponse(getNeighbors(final_vec, test_vec, k))"
   ]
  },
  {
   "cell_type": "code",
   "execution_count": 127,
   "metadata": {},
   "outputs": [],
   "source": [
    "def euclidean_distance(data, p):\n",
    "    result = []\n",
    "    for k, v in data.items():\n",
    "        for q in  v:\n",
    "            result_power = []\n",
    "            for i in range(len(q)):\n",
    "                result_subtract = q[i] - p[i]\n",
    "                result_power.append(pow(result_subtract, 2))\n",
    "            \n",
    "            result_sum = sum(result_power)\n",
    "            result_root = math.sqrt(result_sum)\n",
    "            result.append((k, result_root))\n",
    "            \n",
    "    return result"
   ]
  },
  {
   "cell_type": "code",
   "execution_count": 120,
   "metadata": {},
   "outputs": [],
   "source": [
    "def k_nearest_neighbor(data, k):\n",
    "    result = euclidean_distance(data)\n",
    "    result_asc = sorted(result, key=lambda x:x[1], reverse=False)"
   ]
  },
  {
   "cell_type": "code",
   "execution_count": 121,
   "metadata": {},
   "outputs": [
    {
     "data": {
      "text/plain": [
       "Counter({'positive': 2, 'negative': 3})"
      ]
     },
     "execution_count": 121,
     "metadata": {},
     "output_type": "execute_result"
    }
   ],
   "source": [
    "cnt"
   ]
  },
  {
   "cell_type": "code",
   "execution_count": 122,
   "metadata": {},
   "outputs": [
    {
     "data": {
      "text/plain": [
       "[('negative', 3), ('positive', 2)]"
      ]
     },
     "execution_count": 122,
     "metadata": {},
     "output_type": "execute_result"
    }
   ],
   "source": [
    "cnt.most_common()"
   ]
  },
  {
   "cell_type": "code",
   "execution_count": 131,
   "metadata": {},
   "outputs": [
    {
     "name": "stdout",
     "output_type": "stream",
     "text": [
      "0\n"
     ]
    }
   ],
   "source": [
    "for x in range(1):\n",
    "    print(\"0\")"
   ]
  },
  {
   "cell_type": "code",
   "execution_count": 179,
   "metadata": {},
   "outputs": [
    {
     "ename": "TypeError",
     "evalue": "unsupported operand type(s) for -: 'list' and 'int'",
     "output_type": "error",
     "traceback": [
      "\u001b[0;31m---------------------------------------------------------------------------\u001b[0m",
      "\u001b[0;31mTypeError\u001b[0m                                 Traceback (most recent call last)",
      "\u001b[0;32m<ipython-input-179-c81e9303669a>\u001b[0m in \u001b[0;36m<module>\u001b[0;34m\u001b[0m\n\u001b[0;32m----> 1\u001b[0;31m \u001b[0mlen\u001b[0m\u001b[0;34m(\u001b[0m\u001b[0;34m[\u001b[0m\u001b[0;36m1\u001b[0m\u001b[0;34m,\u001b[0m \u001b[0;36m2\u001b[0m\u001b[0;34m,\u001b[0m \u001b[0;36m5\u001b[0m\u001b[0;34m]\u001b[0m \u001b[0;34m-\u001b[0m \u001b[0;36m1\u001b[0m\u001b[0;34m)\u001b[0m\u001b[0;34m\u001b[0m\u001b[0;34m\u001b[0m\u001b[0m\n\u001b[0m",
      "\u001b[0;31mTypeError\u001b[0m: unsupported operand type(s) for -: 'list' and 'int'"
     ]
    }
   ],
   "source": []
  },
  {
   "cell_type": "code",
   "execution_count": 190,
   "metadata": {},
   "outputs": [
    {
     "name": "stdout",
     "output_type": "stream",
     "text": [
      "0\n",
      "1\n",
      "2\n"
     ]
    },
    {
     "data": {
      "text/plain": [
       "9.16515138991168"
      ]
     },
     "execution_count": 190,
     "metadata": {},
     "output_type": "execute_result"
    }
   ],
   "source": [
    "euclidianDistance([9, 0, 1], [1, 2, 5, 'positif'])"
   ]
  },
  {
   "cell_type": "code",
   "execution_count": 73,
   "metadata": {},
   "outputs": [],
   "source": [
    "docA = \"The cat sat on my face\"\n",
    "docB = \"The dog sat on my bed\""
   ]
  },
  {
   "cell_type": "code",
   "execution_count": 74,
   "metadata": {},
   "outputs": [],
   "source": [
    "bowA = docA.split(\" \")\n",
    "bowB = docB.split(\" \")"
   ]
  },
  {
   "cell_type": "code",
   "execution_count": 75,
   "metadata": {},
   "outputs": [],
   "source": [
    "wordSet = set(bowA).union(set(bowB))"
   ]
  },
  {
   "cell_type": "code",
   "execution_count": 76,
   "metadata": {},
   "outputs": [
    {
     "data": {
      "text/plain": [
       "{'The', 'bed', 'cat', 'dog', 'face', 'my', 'on', 'sat'}"
      ]
     },
     "execution_count": 76,
     "metadata": {},
     "output_type": "execute_result"
    }
   ],
   "source": [
    "wordSet"
   ]
  },
  {
   "cell_type": "code",
   "execution_count": 77,
   "metadata": {},
   "outputs": [],
   "source": [
    "wordDictA = dict.fromkeys(wordSet, 0) \n",
    "wordDictB = dict.fromkeys(wordSet, 0)"
   ]
  },
  {
   "cell_type": "code",
   "execution_count": 78,
   "metadata": {},
   "outputs": [
    {
     "data": {
      "text/plain": [
       "{'my': 0, 'sat': 0, 'The': 0, 'dog': 0, 'bed': 0, 'face': 0, 'cat': 0, 'on': 0}"
      ]
     },
     "execution_count": 78,
     "metadata": {},
     "output_type": "execute_result"
    }
   ],
   "source": [
    "wordDictA"
   ]
  },
  {
   "cell_type": "code",
   "execution_count": 79,
   "metadata": {},
   "outputs": [],
   "source": [
    "for word in bowA:\n",
    "    wordDictA[word]+=1\n",
    "    \n",
    "for word in bowB:\n",
    "    wordDictB[word]+=1"
   ]
  },
  {
   "cell_type": "code",
   "execution_count": 80,
   "metadata": {},
   "outputs": [
    {
     "data": {
      "text/plain": [
       "{'my': 1, 'sat': 1, 'The': 1, 'dog': 0, 'bed': 0, 'face': 1, 'cat': 1, 'on': 1}"
      ]
     },
     "execution_count": 80,
     "metadata": {},
     "output_type": "execute_result"
    }
   ],
   "source": [
    "wordDictA"
   ]
  },
  {
   "cell_type": "code",
   "execution_count": 81,
   "metadata": {},
   "outputs": [],
   "source": [
    "def computeTF(wordDict, bow):\n",
    "    tfDict = {}\n",
    "    bowCount = len(bow)\n",
    "    for word, count in wordDict.items():\n",
    "        tfDict[word] = count/float(bowCount)\n",
    "    return tfDict"
   ]
  },
  {
   "cell_type": "code",
   "execution_count": 82,
   "metadata": {},
   "outputs": [],
   "source": [
    "tfBowA = computeTF(wordDictA, bowA)\n",
    "tfBowB = computeTF(wordDictB, bowB)"
   ]
  },
  {
   "cell_type": "code",
   "execution_count": 83,
   "metadata": {},
   "outputs": [
    {
     "data": {
      "text/plain": [
       "{'my': 0.16666666666666666,\n",
       " 'sat': 0.16666666666666666,\n",
       " 'The': 0.16666666666666666,\n",
       " 'dog': 0.0,\n",
       " 'bed': 0.0,\n",
       " 'face': 0.16666666666666666,\n",
       " 'cat': 0.16666666666666666,\n",
       " 'on': 0.16666666666666666}"
      ]
     },
     "execution_count": 83,
     "metadata": {},
     "output_type": "execute_result"
    }
   ],
   "source": [
    "tfBowA"
   ]
  },
  {
   "cell_type": "code",
   "execution_count": 112,
   "metadata": {},
   "outputs": [],
   "source": [
    "def computeIDF(docList):\n",
    "    import math\n",
    "    idfDict = {}\n",
    "    N = len(docList)\n",
    "    \n",
    "    idfDict = dict.fromkeys(docList[0].keys(), 0)\n",
    "    for doc in docList:\n",
    "        for word, val in doc.items():\n",
    "            if val > 0:\n",
    "                idfDict[word] += 1\n",
    "    \n",
    "    for word, val in idfDict.items():\n",
    "        idfDict[word] = math.log10(N / float(val))\n",
    "        \n",
    "    return idfDict"
   ]
  },
  {
   "cell_type": "code",
   "execution_count": 113,
   "metadata": {},
   "outputs": [],
   "source": [
    "idfs = computeIDF([wordDictA, wordDictB])"
   ]
  },
  {
   "cell_type": "code",
   "execution_count": 99,
   "metadata": {},
   "outputs": [
    {
     "data": {
      "text/plain": [
       "{'my': 0.0,\n",
       " 'sat': 0.0,\n",
       " 'The': 0.0,\n",
       " 'dog': 0.3010299956639812,\n",
       " 'bed': 0.3010299956639812,\n",
       " 'face': 0.3010299956639812,\n",
       " 'cat': 0.3010299956639812,\n",
       " 'on': 0.0}"
      ]
     },
     "execution_count": 99,
     "metadata": {},
     "output_type": "execute_result"
    }
   ],
   "source": [
    "idfs"
   ]
  },
  {
   "cell_type": "code",
   "execution_count": 17,
   "metadata": {},
   "outputs": [],
   "source": [
    "def computeTFIDF(tfBow, idfs):\n",
    "    tfidf = {}\n",
    "    for word, val in tfBow.items():\n",
    "        tfidf[word] = val*idfs[word]\n",
    "    return tfidf"
   ]
  },
  {
   "cell_type": "code",
   "execution_count": 18,
   "metadata": {},
   "outputs": [],
   "source": [
    "tfidfBowA = computeTFIDF(tfBowA, idfs)\n",
    "tfidfBowB = computeTFIDF(tfBowB, idfs)"
   ]
  },
  {
   "cell_type": "code",
   "execution_count": 19,
   "metadata": {},
   "outputs": [
    {
     "data": {
      "text/plain": [
       "{'my': 0.0,\n",
       " 'sat': 0.0,\n",
       " 'The': 0.0,\n",
       " 'dog': 0.0,\n",
       " 'bed': 0.0,\n",
       " 'face': 0.050171665943996864,\n",
       " 'cat': 0.050171665943996864,\n",
       " 'on': 0.0}"
      ]
     },
     "execution_count": 19,
     "metadata": {},
     "output_type": "execute_result"
    }
   ],
   "source": [
    "tfidfBowA"
   ]
  },
  {
   "cell_type": "code",
   "execution_count": null,
   "metadata": {},
   "outputs": [],
   "source": []
  }
 ],
 "metadata": {
  "kernelspec": {
   "display_name": "Python 3",
   "language": "python",
   "name": "python3"
  },
  "language_info": {
   "codemirror_mode": {
    "name": "ipython",
    "version": 3
   },
   "file_extension": ".py",
   "mimetype": "text/x-python",
   "name": "python",
   "nbconvert_exporter": "python",
   "pygments_lexer": "ipython3",
   "version": "3.6.8"
  }
 },
 "nbformat": 4,
 "nbformat_minor": 2
}
